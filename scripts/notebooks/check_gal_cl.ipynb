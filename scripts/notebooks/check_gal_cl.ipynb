{
 "cells": [
  {
   "cell_type": "code",
   "execution_count": 24,
   "metadata": {},
   "outputs": [
    {
     "name": "stdout",
     "output_type": "stream",
     "text": [
      "The autoreload extension is already loaded. To reload it, use:\n",
      "  %reload_ext autoreload\n"
     ]
    }
   ],
   "source": [
    "%load_ext autoreload\n",
    "%autoreload 2\n",
    "\n",
    "#%pylab notebook\n",
    "%matplotlib inline\n",
    "from pylab import *\n",
    "from matplotlib import rc;rc('text', usetex=True);rc('font', weight='bold');matplotlib.rcParams['text.latex.preamble'] = [r'\\boldmath']\n",
    "rcParams['figure.dpi'] = 150\n",
    "rcParams[\"figure.facecolor\"] = 'white'\n",
    "try:\n",
    "    import os\n",
    "    rc('text.latex',preamble=r'\\usepackage{/Users/sraghunathan/.configs/apjfonts}')\n",
    "except:\n",
    "    pass"
   ]
  },
  {
   "cell_type": "code",
   "execution_count": 25,
   "metadata": {},
   "outputs": [],
   "source": [
    "import sys, numpy as np, scipy as sc, warnings, os, healpy as H\n",
    "sys.path.append('/Users/sraghunathan/Research/SPTPol/analysis/git/DRAFT/modules/')\n",
    "import foregrounds as fg, misc\n",
    "\n",
    "#import matplotlib.cbook\n",
    "warnings.filterwarnings('ignore',category=RuntimeWarning)\n",
    "#warnings.filterwarnings('ignore', category=DeprecationWarning)\n",
    "#warnings.filterwarnings('ignore', category=matplotlib.cbook.mplDeprecation)"
   ]
  },
  {
   "cell_type": "code",
   "execution_count": 26,
   "metadata": {},
   "outputs": [],
   "source": [
    "#params\n",
    "lmax = 5200\n",
    "TParr = ['T', 'P']\n",
    "\n",
    "param_dict = {}\n",
    "param_dict['lmax'] = lmax\n",
    "param_dict['Dlfile_len'] = '/Users/sraghunathan/Research/SPTPol/analysis/git/DRAFT/data/output_planck_r_0.0_2015_cosmo_lensedCls.dat'\n",
    "\n",
    "#param_dict['cl_gal_dic_dust_fname'] = 'cls_galactic_sims_dust_CUmilta_20200319_planck_mask.npy'\n",
    "#param_dict['cl_gal_dic_sync_fname'] = 'cls_galactic_sims_sync_CUmilta_20200319_planck_mask.npy'\n",
    "#param_dict['cl_gal_dic_dust_fname'] = 'cls_galactic_sims_dust_CUmilta_20200319_maskplanck.npy'\n",
    "\n",
    "nside, lmax = 2048, 3500\n",
    "#which_mask = 0\n",
    "#param_dict['cl_gal_dic_dust_fname'] = 'data/cls_galactic_sims_dust_CUmilta_20200319_maskplanck_nside%s_lmax%s_mask%s.npy' %(nside, lmax, which_mask)\n",
    "#param_dict['cl_gal_dic_sync_fname'] = 'data/cls_galactic_sims_sync_CUmilta_20200319_maskplanck_nside%s_lmax%s_mask%s.npy' %(nside, lmax, which_mask)\n",
    "\n",
    "#param_dict['cl_gal_dic_dust_fname'] = 'data/cls_galactic_sims_dust_CUmilta_20200319_maskplanck_nside%s_lmax%s.npy' %(nside, lmax)\n",
    "#param_dict['cl_gal_dic_sync_fname'] = 'data/cls_galactic_sims_sync_CUmilta_20200319_maskplanck_nside%s_lmax%s.npy' %(nside, lmax)\n",
    "\n",
    "data_folder = '/Volumes/data_PHD_WD_babbloo/s4/cmbs4/map_based_simulations/202002_foregrounds_extragalactic_cmb_tophat/4096/'\n",
    "param_dict['cl_gal_dic_dust_fname'] = '%s/dust/0000/cls_galactic_sims_dust_maskplanck_nside%s_lmax%s.npy' %(data_folder, nside, lmax)\n",
    "param_dict['cl_gal_dic_sync_fname'] = '%s/synchrotron/0000/cls_galactic_sims_sync_maskplanck_nside%s_lmax%s.npy' %(data_folder, nside, lmax)\n",
    "\n",
    "#S4 specs\n",
    "specs_dic = {\n",
    "#freq: [beam_arcmins, white_noise_T, elknee_T, alphaknee_T, whitenoise_P, elknee_P, alphaknee_P] \n",
    "#20: [10.0, None, None, None, None, None, None],\n",
    "#27: [7.4, 21.8, 471., 3.5, 30.8, 700, 1.4],\n",
    "#39: [5.1, 12.4, 428., 3.5, 17.6, 700, 1.4], \n",
    "93: [2.2, 2.0, 2154., 3.5, 2.9, 700, 1.4],\n",
    "145: [1.4, 2.0, 4364., 3.5, 2.8, 700, 1.4],\n",
    "225: [1.0, 6.9, 7334., 3.5, 9.8, 700, 1.4],\n",
    "278: [0.9, 16.7, 7308., 3.5, 23.6, 700, 1.4],\n",
    "}\n",
    "freqarr = sorted( specs_dic.keys() )"
   ]
  },
  {
   "cell_type": "code",
   "execution_count": 27,
   "metadata": {},
   "outputs": [
    {
     "name": "stdout",
     "output_type": "stream",
     "text": [
      "[2154.0, 4364.0, 7334.0, 7308.0]\n"
     ]
    }
   ],
   "source": [
    "#beam and noise arr\n",
    "beamarr = []\n",
    "noisearr_T, elkneearr_T, alphakneearr_T = [], [], []\n",
    "noisearr_P, elkneearr_P, alphakneearr_P = [], [], []\n",
    "for freq in freqarr:\n",
    "    beam_arcmins, white_noise_T, elknee_T, alphaknee_T, whitenoise_P, elknee_P, alphaknee_P = specs_dic[freq]\n",
    "    beamarr.append(beam_arcmins)\n",
    "    noisearr_T.append(white_noise_T)\n",
    "    noisearr_P.append(whitenoise_P)\n",
    "    elkneearr_T.append(elknee_T)\n",
    "    elkneearr_P.append(elknee_P)\n",
    "    alphakneearr_T.append(alphaknee_T)\n",
    "    alphakneearr_P.append(alphaknee_P)    \n",
    "\n",
    "print(elkneearr_T)"
   ]
  },
  {
   "cell_type": "code",
   "execution_count": 28,
   "metadata": {},
   "outputs": [],
   "source": [
    "#collect beam and noise into a dic; elknee and alpha into a dic\n",
    "beam_noise_dic = {}\n",
    "elknee_dic = {}\n",
    "for TP in TParr:\n",
    "    beam_noise_dic[TP] = {}\n",
    "    elknee_dic[TP] = {} \n",
    "    if TP == 'T':\n",
    "        freqarr, beamarr, noisearr, elkneearr, alphakneearr = freqarr, beamarr, noisearr_T, elkneearr_T, alphakneearr_T\n",
    "    elif TP == 'P':\n",
    "        freqarr, beamarr, noisearr, elkneearr, alphakneearr = freqarr, beamarr, noisearr_P, elkneearr_P, alphakneearr_P\n",
    "\n",
    "    for (freq, beam, noise, elknee, alphaknee) in zip(freqarr, beamarr, noisearr, elkneearr, alphakneearr):\n",
    "        beam_noise_dic[TP][freq] = [beam, noise]\n",
    "        elknee_dic[TP][freq] = [elknee, alphaknee]"
   ]
  },
  {
   "cell_type": "code",
   "execution_count": 29,
   "metadata": {},
   "outputs": [],
   "source": [
    "#collect beam and noise into a dic; elknee and alpha into a dic\n",
    "beam_noise_dic = {}\n",
    "elknee_dic = {}\n",
    "for TP in TParr:\n",
    "    beam_noise_dic[TP] = {}\n",
    "    elknee_dic[TP] = {} \n",
    "    if TP == 'T':\n",
    "        freqarr, beamarr, noisearr, elkneearr, alphakneearr = freqarr, beamarr, noisearr_T, elkneearr_T, alphakneearr_T\n",
    "    elif TP == 'P':\n",
    "        freqarr, beamarr, noisearr, elkneearr, alphakneearr = freqarr, beamarr, noisearr_P, elkneearr_P, alphakneearr_P\n",
    "\n",
    "    for (freq, beam, noise, elknee, alphaknee) in zip(freqarr, beamarr, noisearr, elkneearr, alphakneearr):\n",
    "        beam_noise_dic[TP][freq] = [beam, noise]\n",
    "        elknee_dic[TP][freq] = [elknee, alphaknee]"
   ]
  },
  {
   "cell_type": "code",
   "execution_count": 30,
   "metadata": {},
   "outputs": [
    {
     "name": "stdout",
     "output_type": "stream",
     "text": [
      "dict_keys([93, 145, 225, 278])\n"
     ]
    },
    {
     "data": {
      "image/png": "[encoded data removed]",
      "text/plain": [
       "<Figure size 900x600 with 1 Axes>"
      ]
     },
     "metadata": {},
     "output_type": "display_data"
    }
   ],
   "source": [
    "#get beams\n",
    "bl_dic = misc.get_beam_dic(freqarr, beam_noise_dic['T'], param_dict['lmax'])\n",
    "print(bl_dic.keys())\n",
    "if (1):\n",
    "    for freq in freqarr:\n",
    "        plot(bl_dic[freq], label = freq)\n",
    "    legend(loc = 1)"
   ]
  },
  {
   "cell_type": "code",
   "execution_count": 31,
   "metadata": {},
   "outputs": [],
   "source": [
    "#CAMB output for plotting\n",
    "camb_file = param_dict['Dlfile_len']\n",
    "Tcmb = 2.725\n",
    "el_camb = np.loadtxt(camb_file, usecols = [0])\n",
    "dl_camb = np.loadtxt(camb_file, usecols = [1,2,3,4])\n",
    "\n",
    "cl_camb = ( Tcmb**2. * dl_camb * 2 * np.pi ) / ( el_camb[:,None] * (el_camb[:,None] + 1) )\n",
    "cl_camb *= 1e12\n",
    "cl_TT, cl_EE, cl_BB, cl_TE = cl_camb.T"
   ]
  },
  {
   "cell_type": "code",
   "execution_count": null,
   "metadata": {},
   "outputs": [
    {
     "name": "stderr",
     "output_type": "stream",
     "text": [
      "/Library/Frameworks/Python.framework/Versions/3.7/lib/python3.7/site-packages/ipykernel_launcher.py:47: MatplotlibDeprecationWarning: Adding an axes using the same arguments as a previous axes currently reuses the earlier instance.  In a future version, a new instance will always be created and returned.  Meanwhile, this warning can be suppressed, and the future behavior ensured, by passing a unique label to each axes instance.\n",
      "/Library/Frameworks/Python.framework/Versions/3.7/lib/python3.7/site-packages/ipykernel_launcher.py:52: MatplotlibDeprecationWarning: Adding an axes using the same arguments as a previous axes currently reuses the earlier instance.  In a future version, a new instance will always be created and returned.  Meanwhile, this warning can be suppressed, and the future behavior ensured, by passing a unique label to each axes instance.\n",
      "/Library/Frameworks/Python.framework/Versions/3.7/lib/python3.7/site-packages/ipykernel_launcher.py:58: MatplotlibDeprecationWarning: Adding an axes using the same arguments as a previous axes currently reuses the earlier instance.  In a future version, a new instance will always be created and returned.  Meanwhile, this warning can be suppressed, and the future behavior ensured, by passing a unique label to each axes instance.\n"
     ]
    }
   ],
   "source": [
    "clf()\n",
    "fig = figure(figsize=(8., 4.))\n",
    "subplots_adjust(wspace=0.05)\n",
    "freqarr = [93, 145] ##278]\n",
    "color_dic = {0:'navy', 1: 'green', 2: 'goldenrod', 3: 'darkred'}\n",
    "#alpha_dic = {93: 0.3, 145: 0.6, 225: 0.8, 278: 1.}\n",
    "alpha_dic = {93: .5, 145: 1., 225: 1., 278: 1.}\n",
    "lw_dic = {93: 1., 145: 1., 225: 1.5, 278: 2.}\n",
    "ls_dic = {93: '-.', 145: '-', 225: '--', 278: ':'}\n",
    "tot_mask_iter = 4\n",
    "for mask_iter in range(tot_mask_iter):\n",
    "    plot_done = []\n",
    "    for freq1 in freqarr:\n",
    "        for freq2 in freqarr:\n",
    "\n",
    "            if (freq1, freq2) in plot_done: continue\n",
    "                \n",
    "            if freq1 != freq2: continue\n",
    "\n",
    "            try:\n",
    "                el, cl_dust = fg.get_cl_galactic(param_dict, 'dust', freq1, freq2, which_spec = 'TT', which_gal_mask = mask_iter)\n",
    "            except:\n",
    "                cl_dust = None\n",
    "                            \n",
    "            try:\n",
    "                el, cl_sync = fg.get_cl_galactic(param_dict, 'sync', freq1, freq2, which_spec = 'TT', which_gal_mask = mask_iter)\n",
    "            except:\n",
    "                cl_sync = None\n",
    "                \n",
    "            if freq1 == 93:\n",
    "                delta_ell = 50\n",
    "            elif freq1 == 145:\n",
    "                delta_ell = 100                         \n",
    "            el_to_plot = np.arange(min(el), max(el)+1, delta_ell)\n",
    "\n",
    "            plot_done.append((freq1, freq2))\n",
    "            lab = '%s: (%s,%s)' %(mask_iter, freq1, freq2)\n",
    "\n",
    "            lwval = lw_dic[freq1]\n",
    "            colorval = color_dic[mask_iter]\n",
    "            alphaval = alpha_dic[freq1]\n",
    "            lsval = ls_dic[freq1]\n",
    "            #lwval = 1.\n",
    "            lab = None\n",
    "            if cl_dust is not None:\n",
    "                cl_dust_to_plot = np.interp(el_to_plot, el, cl_dust)\n",
    "                ax = subplot(1,2,1, yscale = 'log')\n",
    "                #plot(el, cl_dust, label = lab, lw = lwval, linestyle = lsval, color = colorval, alpha = alphaval)\n",
    "                plot(el_to_plot, cl_dust_to_plot, label = lab, lw = lwval, linestyle = lsval, color = colorval, alpha = alphaval)\n",
    "            if cl_sync is not None:\n",
    "                cl_sync_to_plot = np.interp(el_to_plot, el, cl_sync)                            \n",
    "                ax = subplot(1,2,2, yscale = 'log')\n",
    "                #plot(el, cl_sync, label = lab, lw = lwval, linestyle = lsval, color = colorval, alpha = alphaval)\n",
    "                plot(el_to_plot, cl_sync_to_plot, label = lab, lw = lwval, linestyle = lsval, color = colorval, alpha = alphaval)\n",
    "    \n",
    "for cntr, which_comp in enumerate( ['dust', 'sync'] ):\n",
    "    \n",
    "    ax = subplot(1,2,cntr+1, yscale = 'log')\n",
    "    plot(el_camb, cl_TT, 'gray', lw = 4., label = r'TT', alpha = 0.3)\n",
    "    if cntr == 1: ##0:\n",
    "\n",
    "        galdustsims_cl = np.load(param_dict['cl_gal_dic_dust_fname'], allow_pickle=1, encoding = 'latin1').item()\n",
    "        fsky_arr = galdustsims_cl['fsky_arr']\n",
    "        \n",
    "        for freq1 in freqarr:\n",
    "            plot([], [], color = 'k', alpha = alpha_dic[freq1], ls = ls_dic[freq1], label = r'%s GHz' %(freq1))\n",
    "        for mask_iter in range(tot_mask_iter):\n",
    "            fsky_val = fsky_arr[mask_iter]\n",
    "            plot([], [], color = color_dic[mask_iter], label = r'Mask %s: f$_{\\rm sky} = %.2f$' %(mask_iter, fsky_val))\n",
    "            \n",
    "        #legend(loc = 3, ncol = 2, fontsize = 8)\n",
    "        legend(loc = 1, ncol = 1, fontsize = 12)\n",
    "    xlabel(r'Multipole $\\ell$', fontsize = 14)\n",
    "    if cntr == 0:\n",
    "        ylabel(r'$C_{\\ell}\\ [\\mu {\\rm K}^{2}]$', fontsize = 14)\n",
    "    else:\n",
    "        setp(ax.get_yticklabels(which = 'both'), visible=False)\n",
    "    title(r'%s' %(which_comp.capitalize()), fontsize = 14)\n",
    "    xlim(-100, 3600); ylim(1e-10, 1e4)\n",
    "savefig('reports/galactic_sims/dust_sync_pspectra.pdf')"
   ]
  },
  {
   "cell_type": "code",
   "execution_count": null,
   "metadata": {},
   "outputs": [],
   "source": []
  },
  {
   "cell_type": "code",
   "execution_count": null,
   "metadata": {},
   "outputs": [],
   "source": []
  },
  {
   "cell_type": "code",
   "execution_count": null,
   "metadata": {},
   "outputs": [],
   "source": []
  },
  {
   "cell_type": "code",
   "execution_count": null,
   "metadata": {},
   "outputs": [],
   "source": []
  }
 ],
 "metadata": {
  "kernelspec": {
   "display_name": "Python 3",
   "language": "python",
   "name": "python3"
  },
  "language_info": {
   "codemirror_mode": {
    "name": "ipython",
    "version": 3
   },
   "file_extension": ".py",
   "mimetype": "text/x-python",
   "name": "python",
   "nbconvert_exporter": "python",
   "pygments_lexer": "ipython3",
   "version": "3.7.3"
  }
 },
 "nbformat": 4,
 "nbformat_minor": 2
}
