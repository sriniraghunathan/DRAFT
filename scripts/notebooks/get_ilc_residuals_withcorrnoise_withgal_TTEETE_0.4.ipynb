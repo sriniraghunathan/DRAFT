{
 "cells": [
  {
   "cell_type": "code",
   "execution_count": 33,
   "metadata": {},
   "outputs": [
    {
     "name": "stdout",
     "output_type": "stream",
     "text": [
      "The autoreload extension is already loaded. To reload it, use:\n",
      "  %reload_ext autoreload\n"
     ]
    }
   ],
   "source": [
    "%load_ext autoreload\n",
    "%autoreload 2\n",
    "\n",
    "#%pylab notebook\n",
    "%matplotlib inline\n",
    "from pylab import *\n",
    "from matplotlib import rc;rc('text', usetex=True);rc('font', weight='bold');matplotlib.rcParams['text.latex.preamble'] = [r'\\boldmath']\n",
    "import os\n",
    "rc('text.latex',preamble=r'\\usepackage{/Users/sraghunathan/.configs/apjfonts}')"
   ]
  },
  {
   "cell_type": "code",
   "execution_count": 34,
   "metadata": {},
   "outputs": [],
   "source": [
    "rcParams['figure.dpi'] = 150\n",
    "rcParams[\"figure.facecolor\"] = 'white'"
   ]
  },
  {
   "cell_type": "code",
   "execution_count": 35,
   "metadata": {},
   "outputs": [],
   "source": [
    "import argparse, sys, numpy as np, scipy as sc, warnings, os\n",
    "sys.path.append('/Users/sraghunathan/Research/SPTPol/analysis/git/DRAFT/modules/')\n",
    "import flatsky, misc\n",
    "import ilc, foregrounds as fg\n",
    "\n",
    "#import matplotlib.cbook\n",
    "warnings.filterwarnings('ignore',category=RuntimeWarning)\n",
    "#warnings.filterwarnings('ignore', category=DeprecationWarning)\n",
    "#warnings.filterwarnings('ignore', category=matplotlib.cbook.mplDeprecation)"
   ]
  },
  {
   "cell_type": "code",
   "execution_count": 36,
   "metadata": {},
   "outputs": [],
   "source": [
    "#some constants\n",
    "h=6.62607004e-34 #Planck constant in m2 kg / s\n",
    "k_B=1.38064852e-23 #Boltzmann constant in m2 kg s-2 / K-1\n",
    "Tcmb = 2.73 #Kelvin"
   ]
  },
  {
   "cell_type": "code",
   "execution_count": 37,
   "metadata": {},
   "outputs": [],
   "source": [
    "#params\n",
    "paramfile = 'params.ini'\n",
    "\n",
    "# read and store param dict\n",
    "param_dict = misc.fn_get_param_dict(paramfile)\n",
    "el = np.arange(param_dict['lmax'])\n",
    "include_gal = param_dict['include_gal'] ##1\n",
    "if not include_gal:\n",
    "    param_dict['which_gal_mask'] = 3\n",
    "which_gal_mask = param_dict['which_gal_mask']\n",
    "s4like_mask = param_dict['s4like_mask']\n",
    "try:\n",
    "    remove_atm = param_dict['remove_atm']\n",
    "except:\n",
    "    remove_atm = 0    "
   ]
  },
  {
   "cell_type": "code",
   "execution_count": 52,
   "metadata": {},
   "outputs": [],
   "source": [
    "#S4 specs\n",
    "expname = 's4wide'\n",
    "expname = 's4deep'\n",
    "if expname == 's4wide':\n",
    "    specs_dic = {\n",
    "    #freq: [beam_arcmins, white_noise_T, elknee_T, alphaknee_T, whitenoise_P, elknee_P, alphaknee_P] \n",
    "    #20: [10.0, None, None, None, None, None, None],\n",
    "    27: [7.4, 21.8, 471., 3.5, 30.8, 700, 1.4],\n",
    "    39: [5.1, 12.4, 428., 3.5, 17.6, 700, 1.4], \n",
    "    93: [2.2, 2.0, 2154., 3.5, 2.9, 700, 1.4],\n",
    "    145: [1.4, 2.0, 4364., 3.5, 2.8, 700, 1.4],\n",
    "    225: [1.0, 6.9, 7334., 3.5, 9.8, 700, 1.4],\n",
    "    278: [0.9, 16.7, 7308., 3.5, 23.6, 700, 1.4],\n",
    "    #225: [1.0, 100., 7334., 3.5, 9.8, 700, 1.4],\n",
    "    #278: [0.9, 100., 7308., 3.5, 23.6, 700, 1.4],\n",
    "\n",
    "    }\n",
    "\n",
    "    if remove_atm:\n",
    "        specs_dic = {\n",
    "        #freq: [beam_arcmins, white_noise_T, elknee_T, alphaknee_T, whitenoise_P, elknee_P, alphaknee_P] \n",
    "        #20: [10.0, None, None, None, None, None, None],\n",
    "        #27: [7.4, 21.8, 471., 0., 30.8, 700, 0.],\n",
    "        #39: [5.1, 12.4, 428., 0., 17.6, 700, 0.], \n",
    "\n",
    "        93: [2.2, 2.0, 2154., 0., 2.9, 700, 0.],\n",
    "        145: [1.4, 2.0, 4364., 0., 2.8, 700, 0.],\n",
    "        225: [1.0, 6.9, 7334., 0., 9.8, 700, 0.],\n",
    "        278: [0.9, 16.7, 7308., 0., 23.6, 700, 0.],\n",
    "    #    225: [1.0, 100., 7334., 0., 9.8, 700, 0.],\n",
    "    #    278: [0.9, 100., 7308., 0., 23.6, 700, 0.],        \n",
    "        }\n",
    "\n",
    "\n",
    "elif expname == 's4deep':\n",
    "    '''\n",
    "    specs_dic = {\n",
    "    #freq: [beam_arcmins, white_noise_T, elknee_T, alphaknee_T, whitenoise_P, elknee_P, alphaknee_P] \n",
    "    #20: [10.0, None, None, None, None, None, None],\n",
    "    27: [7.4, 21.8, 471., 3.5, 30.8, 700, 1.4],\n",
    "    39: [5.1, 12.4, 428., 3.5, 17.6, 700, 1.4], \n",
    "    93: [2.2, 0.48, 2154., 3.5, 0.68, 700, 1.4],\n",
    "    145: [1.4, 0.67, 4364., 3.5, 0.96, 700, 1.4],\n",
    "    225: [1.0, 4.04, 7334., 3.5, 5.72, 700, 1.4],\n",
    "    278: [0.9, 6.92, 7308., 3.5, 9.8, 700, 1.4],\n",
    "    }\n",
    "    '''\n",
    "\n",
    "    specs_dic = {\n",
    "    #freq: [beam_arcmins, white_noise_T, elknee_T, alphaknee_T, whitenoise_P, elknee_P, alphaknee_P] \n",
    "    #20: [10.0, None, None, None, None, None, None],\n",
    "    27: [7.4, 21.8, 1200., 4.2, 30.8, 700, 1.4],\n",
    "    39: [5.1, 12.4, 1200., 4.2, 17.6, 700, 1.4], \n",
    "    93: [2.2, 0.48, 1200., 4.2, 0.68, 700, 1.4],\n",
    "    145: [1.4, 0.67, 1900., 4.1, 0.96, 700, 1.4],\n",
    "    225: [1.0, 4.04, 2100., 4.1, 5.72, 700, 1.4],\n",
    "    278: [0.9, 6.92, 2100., 3.9, 9.8, 700, 1.4],\n",
    "    }\n",
    "\n",
    "    '''\n",
    "    specs_dic = {\n",
    "    #freq: [beam_arcmins, white_noise_T, elknee_T, alphaknee_T, whitenoise_P, elknee_P, alphaknee_P] \n",
    "    #20: [10.0, None, None, None, None, None, None],\n",
    "    #27: [7.4, 21.8, 471., 3.5, 30.8, 700, 1.4],\n",
    "    #39: [5.1, 12.4, 428., 3.5, 17.6, 700, 1.4], \n",
    "    93: [2.2, 0.48, 2154., 0., 0.68, 700, 1.4],\n",
    "    145: [1.4, 0.67, 4364., 0., 0.96, 700, 1.4],\n",
    "    225: [1.0, 4.04, 7334., 0., 5.72, 700, 1.4],\n",
    "    278: [0.9, 6.92, 7308., 0., 9.8, 700, 1.4],\n",
    "    }\n",
    "    '''\n",
    "freqarr = sorted( specs_dic.keys() )\n",
    "nc = len( freqarr )\n",
    "\n",
    "corr_noise = 1\n",
    "if corr_noise:\n",
    "    corr_noise_bands = {20: [20], 27:[39], 39:[27], 93:[145], 145:[93], 225: [278], 278: [225]}\n",
    "else:\n",
    "    corr_noise_bands = {20: [20], 27:[39], 39:[27], 93:[93], 145:[145], 225: [225], 278: [278]}\n",
    "rho = 0.9\n",
    "\n",
    "freqcalib_fac = None\n",
    "final_comp = 'cmb'\n",
    "TParr = ['T', 'P']\n",
    "which_spec_arr = ['TT', 'EE', 'TE']\n",
    "#which_spec_arr = ['TT', 'EE']\n",
    "#which_spec_arr = ['TE']\n",
    "##include_gal = 1"
   ]
  },
  {
   "cell_type": "code",
   "execution_count": 53,
   "metadata": {},
   "outputs": [
    {
     "name": "stdout",
     "output_type": "stream",
     "text": [
      "[1200.0, 1200.0, 1200.0, 1900.0, 2100.0, 2100.0]\n"
     ]
    }
   ],
   "source": [
    "#beam and noise arr\n",
    "beamarr = []\n",
    "noisearr_T, elkneearr_T, alphakneearr_T = [], [], []\n",
    "noisearr_P, elkneearr_P, alphakneearr_P = [], [], []\n",
    "for freq in freqarr:\n",
    "    beam_arcmins, white_noise_T, elknee_T, alphaknee_T, whitenoise_P, elknee_P, alphaknee_P = specs_dic[freq]\n",
    "    beamarr.append(beam_arcmins)\n",
    "    noisearr_T.append(white_noise_T)\n",
    "    noisearr_P.append(whitenoise_P)\n",
    "    elkneearr_T.append(elknee_T)\n",
    "    elkneearr_P.append(elknee_P)\n",
    "    alphakneearr_T.append(alphaknee_T)\n",
    "    alphakneearr_P.append(alphaknee_P)    \n",
    "\n",
    "print(elkneearr_T)"
   ]
  },
  {
   "cell_type": "code",
   "execution_count": 54,
   "metadata": {},
   "outputs": [],
   "source": [
    "#collect beam and noise into a dic; elknee and alpha into a dic\n",
    "beam_noise_dic = {}\n",
    "elknee_dic = {}\n",
    "for TP in TParr:\n",
    "    beam_noise_dic[TP] = {}\n",
    "    elknee_dic[TP] = {} \n",
    "    if TP == 'T':\n",
    "        freqarr, beamarr, noisearr, elkneearr, alphakneearr = freqarr, beamarr, noisearr_T, elkneearr_T, alphakneearr_T\n",
    "    elif TP == 'P':\n",
    "        freqarr, beamarr, noisearr, elkneearr, alphakneearr = freqarr, beamarr, noisearr_P, elkneearr_P, alphakneearr_P\n",
    "\n",
    "    for (freq, beam, noise, elknee, alphaknee) in zip(freqarr, beamarr, noisearr, elkneearr, alphakneearr):\n",
    "        beam_noise_dic[TP][freq] = [beam, noise]\n",
    "        elknee_dic[TP][freq] = [elknee, alphaknee]"
   ]
  },
  {
   "cell_type": "code",
   "execution_count": 55,
   "metadata": {},
   "outputs": [
    {
     "name": "stdout",
     "output_type": "stream",
     "text": [
      "dict_keys([(27, 27), (27, 39), (27, 93), (27, 145), (27, 225), (27, 278), (39, 27), (39, 39), (39, 93), (39, 145), (39, 225), (39, 278), (93, 27), (93, 39), (93, 93), (93, 145), (93, 225), (93, 278), (145, 27), (145, 39), (145, 93), (145, 145), (145, 225), (145, 278), (225, 27), (225, 39), (225, 93), (225, 145), (225, 225), (225, 278), (278, 27), (278, 39), (278, 93), (278, 145), (278, 225), (278, 278)])\n"
     ]
    }
   ],
   "source": [
    "#get beam deconvolved noise nls\n",
    "nl_dic = {}\n",
    "for TP in TParr:\n",
    "    nl_dic[TP]={}\n",
    "    for freq1 in freqarr:\n",
    "        beamval1, noiseval1 = beam_noise_dic[TP][freq1]\n",
    "        elknee1, alphaknee1 = elknee_dic[TP][freq1]\n",
    "        for freq2 in freqarr:        \n",
    "            beamval2, noiseval2 = beam_noise_dic[TP][freq2]\n",
    "            elknee2, alphaknee2 = elknee_dic[TP][freq2]\n",
    "            \n",
    "            if freq1 == freq2:\n",
    "                nl = misc.get_nl(noiseval1, el, beamval1, elknee = elknee1, alphaknee = alphaknee1)\n",
    "            else:\n",
    "                if freq2 in corr_noise_bands[freq1]:\n",
    "                    nl = misc.get_nl(noiseval1, el, beamval1, elknee = elknee1, alphaknee = alphaknee1, \\\n",
    "                                     beamval2 = beamval2, noiseval2 = noiseval2, elknee2 = elknee2, alphaknee2 = alphaknee2, rho = rho)\n",
    "                else:\n",
    "                    nl = np.zeros( len(el) )\n",
    "            nl[el<=param_dict['lmin']] = 0.\n",
    "            ##nl[nl == 0.] = np.min(nl[nl!=0.])/1e3\n",
    "            nl_dic[TP][(freq1, freq2)] = nl\n",
    "print(nl_dic['T'].keys())"
   ]
  },
  {
   "cell_type": "code",
   "execution_count": 56,
   "metadata": {},
   "outputs": [
    {
     "name": "stdout",
     "output_type": "stream",
     "text": [
      "dict_keys([27, 39, 93, 145, 225, 278])\n"
     ]
    }
   ],
   "source": [
    "#get beams\n",
    "bl_dic = misc.get_beam_dic(freqarr, beam_noise_dic['T'], param_dict['lmax'])\n",
    "print(bl_dic.keys())\n",
    "if (0):\n",
    "    for freq in freqarr:\n",
    "        plot(bl_dic[freq], label = freq)\n",
    "    legend(loc = 1)"
   ]
  },
  {
   "cell_type": "code",
   "execution_count": 57,
   "metadata": {},
   "outputs": [
    {
     "name": "stdout",
     "output_type": "stream",
     "text": [
      "['cmb']\n",
      "dict_keys(['TT', 'EE', 'TE']) dict_keys(['TT', 'EE', 'TE'])\n"
     ]
    }
   ],
   "source": [
    "#get the CMB, noise, and foreground covriance\n",
    "try:\n",
    "    ignore_fg = param_dict['ignore_fg']\n",
    "except:\n",
    "    ignore_fg = []\n",
    "\n",
    "ignore_fg.append(final_comp.lower()) #the required component need not go into the covariance matrix.\n",
    "print(ignore_fg)\n",
    "\n",
    "#freqarr = [145]\n",
    "#param_dict['which_gal_mask'] = 0\n",
    "cl_dic = {}\n",
    "for which_spec in which_spec_arr:\n",
    "    if which_spec == 'TT':\n",
    "        el, cl_dic[which_spec] = ilc.get_analytic_covariance(param_dict, freqarr, \\\n",
    "                nl_dic = nl_dic['T'], ignore_fg = ignore_fg, include_gal = include_gal, bl_dic = bl_dic)\n",
    "    else:\n",
    "        el, cl_dic[which_spec] = ilc.get_analytic_covariance\\\n",
    "                    (param_dict, freqarr, nl_dic = nl_dic['P'], ignore_fg = ignore_fg, which_spec = which_spec, \\\n",
    "                    pol_frac_per_cent_dust = param_dict['pol_frac_per_cent_dust'], \\\n",
    "                    pol_frac_per_cent_radio = param_dict['pol_frac_per_cent_radio'], \\\n",
    "                    pol_frac_per_cent_tsz = param_dict['pol_frac_per_cent_tsz'], \\\n",
    "                    pol_frac_per_cent_ksz = param_dict['pol_frac_per_cent_ksz'], \\\n",
    "                    include_gal = include_gal, bl_dic = bl_dic)\n",
    "print(cl_dic.keys(), cl_dic.keys())"
   ]
  },
  {
   "cell_type": "code",
   "execution_count": 58,
   "metadata": {},
   "outputs": [],
   "source": [
    "#colordic = {27:'indigo', 39:'royalblue', 93: 'lightgreen', 145: 'darkgreen', 225: 'goldenrod', 278: 'darkred'}\n",
    "colordic = {}\n",
    "dummy_freqarr = [20, 27, 39, 93, 145, 225, 278]\n",
    "colorarr = [cm.jet(int(d)) for d in np.linspace(0, 255, len(dummy_freqarr) )]\n",
    "for fcntr, f in enumerate( dummy_freqarr ):\n",
    "    colordic[f] = colorarr[fcntr]\n",
    "colordic[27] = 'navy'\n",
    "colordic[39] = 'royalblue'\n",
    "colordic[93] = 'lightseagreen'\n",
    "colordic[145] = 'darkgreen'"
   ]
  },
  {
   "cell_type": "code",
   "execution_count": 59,
   "metadata": {},
   "outputs": [
    {
     "data": {
      "text/plain": [
       "'\\n#get the residual power now\\nweights_dic, cl_residual = {}, {}\\nfor which_spec in which_spec_arr:\\n    print(which_spec)\\n    cl_residual[which_spec], weights_dic[which_spec] = ilc.residual_power(param_dict, freqarr, el, cl_dic, which_spec, final_comp = final_comp, freqcalib_fac = freqcalib_fac, return_weights = 1)\\n'"
      ]
     },
     "execution_count": 59,
     "metadata": {},
     "output_type": "execute_result"
    }
   ],
   "source": [
    "'''\n",
    "#get the residual power now\n",
    "weights_dic, cl_residual = {}, {}\n",
    "for which_spec in which_spec_arr:\n",
    "    print(which_spec)\n",
    "    cl_residual[which_spec], weights_dic[which_spec] = ilc.residual_power(param_dict, freqarr, el, cl_dic, which_spec, final_comp = final_comp, freqcalib_fac = freqcalib_fac, return_weights = 1)\n",
    "'''"
   ]
  },
  {
   "cell_type": "code",
   "execution_count": 60,
   "metadata": {},
   "outputs": [
    {
     "data": {
      "text/plain": [
       "\"\\n#plot weights now\\nclf()\\nfig = figure(figsize=(6, 6))\\nfor cntr, which_spec in enumerate( which_spec_arr ): \\n    #if which_spec == 'TE': continue\\n    ax = subplot ( len(which_spec_arr), 1, cntr+1)\\n    if which_spec == 'TE':\\n        tot_teiter = 1 ##2\\n    else:\\n        tot_teiter = 1 \\n    \\n    for teiter in range(tot_teiter):\\n        shift = teiter * len(freqarr)\\n        if teiter == 0:\\n            lsval = '-'\\n            lwval = 1.\\n        else:\\n            lsval = ':'\\n            lwval = 0.5\\n        for frqcntr, freq in enumerate( freqarr ):            \\n            weights_arr = weights_dic[which_spec][frqcntr+shift]\\n            plot(weights_arr, color = colordic[freq], ls = lsval, lw = lwval, label = r'%s' %(freq))\\n        plot(np.sum(weights_dic[which_spec], axis = 0), 'k--', lw = 0.5, label = r'Sum')    \\n    axhline(lw=0.3);\\n    if cntr == len(which_spec):\\n        xlabel(r'Multipole $\\\\ell$');\\n    else:\\n        setp(ax.get_xticklabels(which = 'both'), visible=False)\\n    if cntr == 0:\\n        legend(loc = 4, ncol = 5, fontsize = 6)\\n        \\n    ylabel(r'Weight $W_{\\\\ell}$')\\n    ylim(-2., 2.);\\nshow()#;sys.exit()\\n\""
      ]
     },
     "execution_count": 60,
     "metadata": {},
     "output_type": "execute_result"
    }
   ],
   "source": [
    "'''\n",
    "#plot weights now\n",
    "clf()\n",
    "fig = figure(figsize=(6, 6))\n",
    "for cntr, which_spec in enumerate( which_spec_arr ): \n",
    "    #if which_spec == 'TE': continue\n",
    "    ax = subplot ( len(which_spec_arr), 1, cntr+1)\n",
    "    if which_spec == 'TE':\n",
    "        tot_teiter = 1 ##2\n",
    "    else:\n",
    "        tot_teiter = 1 \n",
    "    \n",
    "    for teiter in range(tot_teiter):\n",
    "        shift = teiter * len(freqarr)\n",
    "        if teiter == 0:\n",
    "            lsval = '-'\n",
    "            lwval = 1.\n",
    "        else:\n",
    "            lsval = ':'\n",
    "            lwval = 0.5\n",
    "        for frqcntr, freq in enumerate( freqarr ):            \n",
    "            weights_arr = weights_dic[which_spec][frqcntr+shift]\n",
    "            plot(weights_arr, color = colordic[freq], ls = lsval, lw = lwval, label = r'%s' %(freq))\n",
    "        plot(np.sum(weights_dic[which_spec], axis = 0), 'k--', lw = 0.5, label = r'Sum')    \n",
    "    axhline(lw=0.3);\n",
    "    if cntr == len(which_spec):\n",
    "        xlabel(r'Multipole $\\ell$');\n",
    "    else:\n",
    "        setp(ax.get_xticklabels(which = 'both'), visible=False)\n",
    "    if cntr == 0:\n",
    "        legend(loc = 4, ncol = 5, fontsize = 6)\n",
    "        \n",
    "    ylabel(r'Weight $W_{\\ell}$')\n",
    "    ylim(-2., 2.);\n",
    "show()#;sys.exit()\n",
    "'''"
   ]
  },
  {
   "cell_type": "code",
   "execution_count": 61,
   "metadata": {},
   "outputs": [
    {
     "name": "stdout",
     "output_type": "stream",
     "text": [
      "(12, 2, 10000)\n"
     ]
    }
   ],
   "source": [
    "#get the residual power now\n",
    "cl_residual_arr, weights_arr = ilc.residual_power_new(param_dict, freqarr, el, cl_dic, final_comp = final_comp, freqcalib_fac = freqcalib_fac, return_weights = 1)"
   ]
  },
  {
   "cell_type": "code",
   "execution_count": 62,
   "metadata": {},
   "outputs": [
    {
     "name": "stdout",
     "output_type": "stream",
     "text": [
      "dict_keys(['TT', 'EE', 'TE'])\n"
     ]
    }
   ],
   "source": [
    "cl_residual, weights_dic = {}, {}\n",
    "for which_spec in which_spec_arr:\n",
    "    if which_spec == 'TT':\n",
    "       cl_res = cl_residual_arr[0]\n",
    "       weights = weights_arr[:nc, 0]\n",
    "    elif which_spec == 'EE':\n",
    "       cl_res = cl_residual_arr[1]\n",
    "       weights = weights_arr[nc:, 1]\n",
    "    elif which_spec == 'TE':\n",
    "       cl_res = cl_residual_arr[2]\n",
    "       weights = np.asarray( [weights_arr[nc:, 0], weights_arr[:nc, 1]] )\n",
    "    cl_residual[which_spec], weights_dic[which_spec] = cl_res, weights\n",
    "print(cl_residual.keys())"
   ]
  },
  {
   "cell_type": "code",
   "execution_count": 63,
   "metadata": {},
   "outputs": [
    {
     "name": "stdout",
     "output_type": "stream",
     "text": [
      "results/20200610/s4like_mask//s4deep_ilc_galaxy0_27-39-93-145-225-278_TT-EE-TE.npy\n",
      "results/20200610/s4like_mask/plots//s4deep_ilc_galaxy0_27-39-93-145-225-278_TT-EE-TE.png\n"
     ]
    }
   ],
   "source": [
    "#plot and results file name\n",
    "freqarr_str = '-'.join( np.asarray( freqarr ).astype(str) )\n",
    "which_spec_arr_str = '-'.join( np.asarray( which_spec_arr ).astype(str) )\n",
    "#opfname = 'results/galactic_sims/S4_ilc_20204020_galaxy%s_%s.npy' %(include_gal, freqarr_str)\n",
    "#opfname = 'results/galactic_sims/S4_ilc_zonca_sims_20204028_galaxy%s_%s_%s.npy' %(include_gal, freqarr_str, which_spec_arr_str)\n",
    "parent_folder = 'results/20200610'\n",
    "opfname = '%s/%s_ilc_galaxy%s_%s_%s.npy' %(parent_folder, expname, include_gal, freqarr_str, which_spec_arr_str)\n",
    "\n",
    "if not corr_noise:\n",
    "    opfname = opfname.replace('.npy', '_nocorrnoise.npy')\n",
    "    \n",
    "if s4like_mask:\n",
    "    opfname = opfname.replace(parent_folder, '%s/s4like_mask/' %(parent_folder))\n",
    "    \n",
    "if include_gal:\n",
    "    opfname = opfname.replace('.npy', '_galmask%s.npy' %(which_gal_mask))\n",
    "\n",
    "if remove_atm:\n",
    "    opfname = opfname.replace('.npy', '_noatmnoise.npy')\n",
    "\n",
    "if include_gal:    \n",
    "    cl_gal_folder = param_dict['cl_gal_folder']\n",
    "    if cl_gal_folder.find('CUmilta')>-1:\n",
    "        opfname = opfname.replace('.npy', '_CU.npy')\n",
    "    else:\n",
    "        opfname = opfname.replace('.npy', '_AZ.npy')\n",
    "\n",
    "try:\n",
    "    param_dict['cl_gal_dic_sync_fname_forced']\n",
    "    opfname = opfname.replace('.npy', '_forcingsynctoCU.npy')\n",
    "except:\n",
    "    pass\n",
    "\n",
    "#plname = opfname.replace('.npy', '.png').replace('S4_ilc', 'plot_S4_ilc')\n",
    "if not s4like_mask:\n",
    "    plname = opfname.replace('.npy', '.png').replace(parent_folder, '%s/plots/' %(parent_folder))\n",
    "else:\n",
    "    plname = opfname.replace('.npy', '.png').replace('%s/s4like_mask/' %(parent_folder), '%s/s4like_mask/plots/' %(parent_folder))\n",
    "plfolder = '/'.join(plname.split('/')[:-1])\n",
    "os.system('mkdir -p %s' %(plfolder))\n",
    "print(opfname)\n",
    "print(plname)"
   ]
  },
  {
   "cell_type": "code",
   "execution_count": 64,
   "metadata": {},
   "outputs": [
    {
     "name": "stderr",
     "output_type": "stream",
     "text": [
      "/Library/Frameworks/Python.framework/Versions/3.7/lib/python3.7/site-packages/ipykernel_launcher.py:71: UserWarning: Data has no positive values, and therefore cannot be log-scaled.\n"
     ]
    },
    {
     "data": {
      "image/png": "[encoded data removed]",
      "text/plain": [
       "<Figure size 900x600 with 3 Axes>"
      ]
     },
     "metadata": {},
     "output_type": "display_data"
    }
   ],
   "source": [
    "freq0, lmax = param_dict['freq0'], param_dict['lmax']\n",
    "if include_gal:\n",
    "    foregrounds_to_plot = ['kSZ', 'tSZ', 'DG-Po', 'DG-Cl', 'RG', 'dust', 'sync']\n",
    "    pol_foregrounds_to_plot = ['dust', 'sync']\n",
    "else:\n",
    "    foregrounds_to_plot = ['kSZ', 'tSZ', 'DG-Po', 'DG-Cl', 'RG']\n",
    "    pol_foregrounds_to_plot = []\n",
    "\n",
    "#CAMB output for plotting\n",
    "#camb_file = param_dict['Dlfile_len']\n",
    "camb_file = '%s/%s' %(param_dict['data_folder'], param_dict['Dlfile_len'])\n",
    "el_camb = np.loadtxt(camb_file, usecols = [0])\n",
    "dl_camb = np.loadtxt(camb_file, usecols = [1,2,3,4])\n",
    "\n",
    "cl_camb = ( Tcmb**2. * dl_camb * 2 * np.pi ) / ( el_camb[:,None] * (el_camb[:,None] + 1) )\n",
    "cl_camb *= 1e12\n",
    "cl_TT, cl_EE, cl_BB, cl_TE = cl_camb.T\n",
    "\n",
    "clf(); \n",
    "fsval = 8\n",
    "lwval = 0.75\n",
    "plot_weights = 0\n",
    "xmin, xmax = 20, 7000\n",
    "if plot_weights:\n",
    "    tr, tc = 6, len(which_spec_arr)\n",
    "    subplots_adjust(wspace=0.1, hspace = 0.1)\n",
    "    #first plot weights\n",
    "    rspan, cspan = 2, 1\n",
    "    curr_row = 0\n",
    "    for cntr, which_spec in enumerate( which_spec_arr ):\n",
    "        ax = subplot2grid((tr,tc), (curr_row, cntr), rowspan = rspan, colspan = cspan, xscale = 'log')#, yscale = 'log')\n",
    "        if which_spec == 'TE':\n",
    "            tot_teiter = 1 ##2\n",
    "            for teiter in range(tot_teiter):\n",
    "                if teiter == 0:\n",
    "                    lsval = '-'\n",
    "                else:\n",
    "                    lsval = ':'\n",
    "                shift = teiter * len(freqarr)\n",
    "                for frqcntr, freq in enumerate( freqarr ):\n",
    "                    #plot(weights_dic[which_spec][teiter][frqcntr], color = colordic[freq], label = r'%s' %(freq), lw = lwval, ls = lsval)\n",
    "                    plot(weights_dic[which_spec][frqcntr+shift], color = colordic[freq], label = r'%s' %(freq), lw = lwval, ls = lsval)\n",
    "                plot(np.sum(weights_dic[which_spec][teiter], axis = 0), 'k--', label = r'Sum', lw = lwval, ls = lsval)        \n",
    "        else:\n",
    "            for frqcntr, freq in enumerate( freqarr ):\n",
    "                plot(weights_dic[which_spec][frqcntr], color = colordic[freq], label = r'%s' %(freq), lw = lwval)\n",
    "            plot(np.sum(weights_dic[which_spec], axis = 0), 'k--', label = r'Sum', lw = lwval)\n",
    "        axhline(lw=0.3);\n",
    "        #xlabel(r'Multipole $\\ell$');\n",
    "        setp(ax.get_xticklabels(which = 'both'), visible=False)\n",
    "        if cntr == 0:\n",
    "            ylabel(r'Weight $W_{\\ell}$')\n",
    "            legend(loc = 3, fontsize = 5, ncol = 4, handlelength = 2., handletextpad = 0.1)\n",
    "        else:\n",
    "            setp(ax.get_yticklabels(which = 'both'), visible=False)\n",
    "        ylim(-3., 3.);\n",
    "        xlim(xmin, xmax);\n",
    "        for label in ax.get_xticklabels(): label.set_fontsize(fsval)\n",
    "        for label in ax.get_yticklabels(): label.set_fontsize(fsval)        \n",
    "\n",
    "        title(r'%s' %(which_spec))#, fontsize = 10)\n",
    "\n",
    "    curr_row = rspan\n",
    "    rspan = tr - rspan\n",
    "for cntr, which_spec in enumerate( which_spec_arr ):\n",
    "    if plot_weights:\n",
    "        #ax = subplot(1,2,cntr+1, xscale = 'log', yscale = 'log')\n",
    "        ax = subplot2grid((tr,tc), (curr_row, cntr), rowspan = rspan, colspan = cspan, xscale = 'log', yscale = 'log')\n",
    "    else:\n",
    "        ax = subplot(1, len(which_spec_arr), cntr+1, xscale = 'log', yscale = 'log')\n",
    "    plot(el, cl_residual[which_spec], 'black', lw = 2., label = r'Residual')\n",
    "    if which_spec == 'TT':\n",
    "        plot(el_camb, cl_TT, 'gray', lw = 1., label = r'TT')\n",
    "        '''\n",
    "        cl_fg = np.zeros(len(el))\n",
    "        for curr_fg in foregrounds_to_plot:\n",
    "            if curr_fg == 'dust':\n",
    "                el, cl_curr_fg = fg.get_cl_galactic(param_dict, 'dust', 145, 145, 'TT', bl_dic = bl_dic, el = el)\n",
    "            elif curr_fg == 'sync':\n",
    "                el, cl_curr_fg = fg.get_cl_galactic(param_dict, 'sync', 145, 145, 'TT', bl_dic = bl_dic, el = el)\n",
    "            else:\n",
    "                el_, cl_curr_fg = fg.get_foreground_power_spt(curr_fg, freq1 = freq0, lmax = lmax)\n",
    "            #plot(el, cl_curr_fg, lw = 0.5, ls = '--', label = r'150: %s' %(curr_fg), alpha = 0.4)\n",
    "            cl_fg += cl_curr_fg\n",
    "        plot(el, cl_fg, lw = 5., ls = '--', label = r'150: All foregrounds', alpha = 1.)\n",
    "        '''\n",
    "    elif which_spec == 'EE':\n",
    "        plot(el_camb, cl_EE, 'gray', lw = 0.5)#, label = r'EE')\n",
    "        '''\n",
    "        for curr_fg in pol_foregrounds_to_plot:\n",
    "            if curr_fg == 'dust':\n",
    "                el, cl_curr_fg = fg.get_cl_galactic(param_dict, 'dust', 145, 145, 'EE', bl_dic = bl_dic, el = el)\n",
    "            elif curr_fg == 'sync':\n",
    "                el, cl_curr_fg = fg.get_cl_galactic(param_dict, 'sync', 145, 145, 'EE', bl_dic = bl_dic, el = el)\n",
    "            plot(el, cl_curr_fg, lw = 0.5, ls = '--', label = r'150: %s' %(curr_fg), alpha = 0.4)\n",
    "        '''\n",
    "    elif which_spec == 'TE':\n",
    "        plot(el_camb, cl_TE, 'gray', ls = '-', lw = 0.5)#, label = r'TE')        \n",
    "        plot(el_camb, abs( cl_TE ), 'gray', ls = '--', lw = 0.5) \n",
    "        '''\n",
    "        for curr_fg in pol_foregrounds_to_plot:\n",
    "            if curr_fg == 'dust':\n",
    "                el, cl_curr_fg = fg.get_cl_galactic(param_dict, 'dust', 145, 145, 'EE', bl_dic = bl_dic, el = el)\n",
    "            elif curr_fg == 'sync':\n",
    "                el, cl_curr_fg = fg.get_cl_galactic(param_dict, 'sync', 145, 145, 'EE', bl_dic = bl_dic, el = el)\n",
    "            plot(el, cl_curr_fg, lw = 0.5, ls = '--', label = r'150: %s' %(curr_fg), alpha = 0.4)\n",
    "        '''\n",
    "    #for freq in freqarr:\n",
    "    #    plot(el, cl_dic[which_spec][(freq,freq)], color = colordic[freq], lw = 0.5, ls = '-', label = r'%s' %(freq), alpha = 1.)        \n",
    "    for freq in freqarr:\n",
    "        if which_spec == 'TT':\n",
    "            nl = nl_dic['T'][(freq, freq)]\n",
    "        elif which_spec == 'EE':\n",
    "            nl = nl_dic['P'][(freq, freq)]\n",
    "        elif which_spec == 'TE':\n",
    "            nl = nl_dic['T'][(freq, freq)] * 0.\n",
    "        plot(el, nl, color = colordic[freq], lw = lwval, ls = '--', label = r'Noise: %s' %(freq))#, alpha = 0.5)\n",
    "    #legend(loc=3, fancybox=1, ncol = 4, fontsize = 6);\n",
    "    \n",
    "    xlim(xmin, xmax);\n",
    "    ylim(1e-8,1e6);\n",
    "    xlabel(r'Multipole $\\ell$')\n",
    "    if cntr == 0: \n",
    "        ylabel(r'$C_{\\ell}$')\n",
    "        legend(loc = 1, fontsize = 6, ncol = 2, handlelength = 2., handletextpad = 0.1)\n",
    "    else:\n",
    "        setp(ax.get_yticklabels(which = 'both'), visible=False)\n",
    "    for label in ax.get_xticklabels(): label.set_fontsize(fsval)\n",
    "    for label in ax.get_yticklabels(): label.set_fontsize(fsval)\n",
    "        \n",
    "#tit = 'Galaxy = %s; Mask = %s; Bands = %s' %(include_gal, param_dict['which_gal_mask'], str(freqarr))\n",
    "if remove_atm:\n",
    "    tit = 'Galaxy = %s; Mask = %s; Bands = %s; no 1/f' %(include_gal, param_dict['which_gal_mask'], str(freqarr))\n",
    "else:\n",
    "    if include_gal:\n",
    "        tit = 'Galaxy = %s; Mask = %s; Bands = %s' %(include_gal, param_dict['which_gal_mask'], str(freqarr))    \n",
    "    else:\n",
    "        tit = 'Galaxy = %s; Mask = N/A; Bands = %s' %(include_gal, str(freqarr))    \n",
    "if not corr_noise:\n",
    "    tit = '%s; No corr. noise' %(tit)\n",
    "suptitle(r'%s' %tit, x = 0.53, y = 1.)\n",
    "######savefig(plname)\n",
    "show()\n"
   ]
  },
  {
   "cell_type": "code",
   "execution_count": null,
   "metadata": {},
   "outputs": [],
   "source": []
  },
  {
   "cell_type": "code",
   "execution_count": null,
   "metadata": {},
   "outputs": [],
   "source": []
  },
  {
   "cell_type": "code",
   "execution_count": null,
   "metadata": {},
   "outputs": [],
   "source": []
  },
  {
   "cell_type": "code",
   "execution_count": null,
   "metadata": {},
   "outputs": [],
   "source": []
  },
  {
   "cell_type": "code",
   "execution_count": null,
   "metadata": {},
   "outputs": [],
   "source": []
  },
  {
   "cell_type": "code",
   "execution_count": 65,
   "metadata": {},
   "outputs": [
    {
     "name": "stdout",
     "output_type": "stream",
     "text": [
      "0.77325439453125\n",
      "results/20200610/s4like_mask//s4deep_ilc_galaxy0_27-39-93-145-225-278_TT-EE-TE.npy\n"
     ]
    }
   ],
   "source": [
    "cl_gal_dic_dust_fname = param_dict['cl_gal_dic_dust_fname']\n",
    "try:\n",
    "    cl_gal_folder = param_dict['cl_gal_folder']\n",
    "    cl_gal_dic_dust_fname = '%s/%s' %(cl_gal_folder, cl_gal_dic_dust_fname)\n",
    "except:\n",
    "    pass\n",
    "    \n",
    "galdustsims_cl = np.load(cl_gal_dic_dust_fname, allow_pickle=1, encoding = 'latin1').item()\n",
    "fsky_val = galdustsims_cl['fsky_arr'][param_dict['which_gal_mask']]\n",
    "print(fsky_val)\n",
    "opdic = {}\n",
    "opdic['el'] = el\n",
    "opdic['cl_residual'] = cl_residual\n",
    "opdic['freqcalib_fac'] = freqcalib_fac\n",
    "opdic['param_dict'] = param_dict\n",
    "opdic['fsky_val'] = fsky_val\n",
    "opdic['which_gal_mask'] = which_gal_mask\n",
    "opdic['weights'] = weights_dic\n",
    "#opdic['nl_dic'] = nl_dic\n",
    "opdic['beam_noise_dic'] = beam_noise_dic\n",
    "opdic['elknee_dic'] = elknee_dic\n",
    "np.save(opfname, opdic)\n",
    "print(opfname)"
   ]
  },
  {
   "cell_type": "code",
   "execution_count": null,
   "metadata": {},
   "outputs": [],
   "source": []
  }
 ],
 "metadata": {
  "kernelspec": {
   "display_name": "Python 3",
   "language": "python",
   "name": "python3"
  },
  "language_info": {
   "codemirror_mode": {
    "name": "ipython",
    "version": 3
   },
   "file_extension": ".py",
   "mimetype": "text/x-python",
   "name": "python",
   "nbconvert_exporter": "python",
   "pygments_lexer": "ipython3",
   "version": "3.7.3"
  }
 },
 "nbformat": 4,
 "nbformat_minor": 2
}
