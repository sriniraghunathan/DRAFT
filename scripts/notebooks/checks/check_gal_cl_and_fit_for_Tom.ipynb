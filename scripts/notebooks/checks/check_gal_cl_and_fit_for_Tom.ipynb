{
 "cells": [
  {
   "cell_type": "code",
   "execution_count": 38,
   "metadata": {},
   "outputs": [
    {
     "name": "stdout",
     "output_type": "stream",
     "text": [
      "The autoreload extension is already loaded. To reload it, use:\n",
      "  %reload_ext autoreload\n"
     ]
    }
   ],
   "source": [
    "%load_ext autoreload\n",
    "%autoreload 2\n",
    "\n",
    "#%pylab notebook\n",
    "%matplotlib inline\n",
    "from pylab import *\n",
    "from matplotlib import rc;rc('text', usetex=True);rc('font', weight='bold')\n",
    "rcParams[\"figure.facecolor\"] = 'white'\n",
    "from scipy.optimize import curve_fit"
   ]
  },
  {
   "cell_type": "code",
   "execution_count": 39,
   "metadata": {},
   "outputs": [],
   "source": [
    "rcParams['figure.dpi'] = 150\n",
    "rcParams['figure.facecolor'] = 'white'"
   ]
  },
  {
   "cell_type": "code",
   "execution_count": 40,
   "metadata": {},
   "outputs": [],
   "source": [
    "import sys, numpy as np, scipy as sc, warnings, os#, healpy as H\n",
    "sys.path.append('/Users/sraghunathan/Research/SPTPol/analysis/git/DRAFT/modules/')\n",
    "import foregrounds as fg, misc, flatsky, misc, exp_specs\n",
    "\n",
    "#import matplotlib.cbook\n",
    "warnings.filterwarnings('ignore',category=RuntimeWarning)\n",
    "warnings.filterwarnings('ignore', category=DeprecationWarning)\n",
    "warnings.filterwarnings('ignore', category=matplotlib.cbook.mplDeprecation)\n",
    "#warnings.filterwarnings('ignore', category=OptimizeWarning)"
   ]
  },
  {
   "cell_type": "code",
   "execution_count": 41,
   "metadata": {},
   "outputs": [
    {
     "name": "stdout",
     "output_type": "stream",
     "text": [
      "[93, 145, 278]\n"
     ]
    }
   ],
   "source": [
    "#params\n",
    "expname = 's4wide'\n",
    "#expname = 'cmbhd'\n",
    "#expname = 's4deep'\n",
    "#expname = 's4deepv3r025' #20201019\n",
    "specs_dic, corr_noise_bands, rho, corr_noise = exp_specs.get_exp_specs(expname)\n",
    "#freqarr = sorted( specs_dic.keys() )\n",
    "freqarr = [93, 145, 278]\n",
    "print(freqarr)\n",
    "nc = len( freqarr )\n",
    "TParr = ['T', 'P']\n",
    "\n",
    "#for Neff: T/P available\n",
    "param_dict = {}\n",
    "nside, lmax = 2048, 5000\n",
    "#which_sim_set = '202002_foregrounds_extragalactic_cmb_tophat'\n",
    "which_sim_set = '202102_design_tool_input'\n",
    "\n",
    "param_dict['lmax'] = lmax\n",
    "param_dict['Dlfile_len'] = '/Users/sraghunathan/Research/SPTPol/analysis/git/DRAFT/data/output_planck_r_0.0_2015_cosmo_lensedCls.dat'"
   ]
  },
  {
   "cell_type": "code",
   "execution_count": 42,
   "metadata": {},
   "outputs": [
    {
     "name": "stdout",
     "output_type": "stream",
     "text": [
      "[1932.0, 3917.0, 6792.0]\n",
      "dict_keys([93, 145, 278])\n"
     ]
    }
   ],
   "source": [
    "#beam and noise arr\n",
    "beamarr = []\n",
    "noisearr_T, elkneearr_T, alphakneearr_T = [], [], []\n",
    "noisearr_P, elkneearr_P, alphakneearr_P = [], [], []\n",
    "for freq in freqarr:\n",
    "    beam_arcmins, white_noise_T, elknee_T, alphaknee_T, white_noise_P, elknee_P, alphaknee_P = specs_dic[freq]\n",
    "    beamarr.append(beam_arcmins)\n",
    "    noisearr_T.append(white_noise_T)\n",
    "    noisearr_P.append(white_noise_P)\n",
    "    elkneearr_T.append(elknee_T)\n",
    "    elkneearr_P.append(elknee_P)\n",
    "    alphakneearr_T.append(alphaknee_T)\n",
    "    alphakneearr_P.append(alphaknee_P)    \n",
    "\n",
    "print(elkneearr_T)\n",
    "\n",
    "#collect beam and noise into a dic; elknee and alpha into a dic\n",
    "beam_noise_dic = {}\n",
    "elknee_dic = {}\n",
    "for TP in TParr:\n",
    "    beam_noise_dic[TP] = {}\n",
    "    elknee_dic[TP] = {} \n",
    "    if TP == 'T':\n",
    "        freqarr, beamarr, noisearr, elkneearr, alphakneearr = freqarr, beamarr, noisearr_T, elkneearr_T, alphakneearr_T\n",
    "    elif TP == 'P':\n",
    "        freqarr, beamarr, noisearr, elkneearr, alphakneearr = freqarr, beamarr, noisearr_P, elkneearr_P, alphakneearr_P\n",
    "\n",
    "    for (freq, beam, noise, elknee, alphaknee) in zip(freqarr, beamarr, noisearr, elkneearr, alphakneearr):\n",
    "        beam_noise_dic[TP][freq] = [beam, noise]\n",
    "        elknee_dic[TP][freq] = [elknee, alphaknee]\n",
    "\n",
    "#get beams\n",
    "bl_dic = misc.get_beam_dic(freqarr, beam_noise_dic['T'], param_dict['lmax']+1)\n",
    "print(bl_dic.keys())\n",
    "if (0):\n",
    "    for freq in freqarr:\n",
    "        plot(bl_dic[freq], label = freq)\n",
    "    legend(loc = 1)"
   ]
  },
  {
   "cell_type": "code",
   "execution_count": 43,
   "metadata": {},
   "outputs": [],
   "source": [
    "ell_norm = 80\n",
    "def power_law(ell, A, alpha, ell_norm = 80.):\n",
    "    #print(A, alpha)#, end = ' ')\n",
    "    fit = A * ((ell / ell_norm) ** alpha)\n",
    "    badinds = np.where((fit == np.inf) | (fit == np.nan))[0]\n",
    "    fit[badinds]=0.\n",
    "    return fit\n",
    "def perform_fit(el, cl, ell_norm = 80, which_spec = 'TT'):\n",
    "    dl_fac = (el * (el + 1))/2/np.pi\n",
    "    dl = cl * dl_fac\n",
    "    badinds = np.where((dl == np.inf) | (dl == np.nan))[0]\n",
    "    dl[badinds]=0.\n",
    "    amp_ini = dl[el == ell_norm][0]\n",
    "    if which_spec == 'EE':\n",
    "        alpha_ini = -.4\n",
    "    elif which_spec == 'TT':\n",
    "        alpha_ini = -.3\n",
    "    #print(amp_ini*0.1, amp_ini*3., alpha_ini-0.2, alpha_ini+0.2); sys.exit()\n",
    "    if which_spec == 'TT':\n",
    "        amp_low_fac, amp_high_fac = 0.95, 1.05 #0.1, 3.\n",
    "        delta_alpha = 0.1\n",
    "    else:\n",
    "        amp_low_fac, amp_high_fac = 0.95, 1.05 #0.1, 3.\n",
    "        delta_alpha = 0.2\n",
    "    pars, cov = curve_fit(f=power_law, xdata=el, ydata=dl, p0=[amp_ini, alpha_ini], bounds = ((amp_ini*amp_low_fac, alpha_ini-delta_alpha), (amp_ini*amp_high_fac, alpha_ini+delta_alpha)))\n",
    "    dl_fit = power_law(el, pars[0], pars[1])\n",
    "    cl_fit = dl_fit / dl_fac\n",
    "\n",
    "    return cl_fit, pars"
   ]
  },
  {
   "cell_type": "code",
   "execution_count": 47,
   "metadata": {},
   "outputs": [
    {
     "name": "stdout",
     "output_type": "stream",
     "text": [
      "dict_keys(['s4wide', 's4deep'])\n"
     ]
    }
   ],
   "source": [
    "#get and store dust and sync values for both S4-Wide and S4-Ultra deep fields\n",
    "cl_gal_dic = {}\n",
    "which_spec = 'EE'# 'TT' #'TT'\n",
    "max_l = 1000\n",
    "exparr = ['s4wide', 's4deep']\n",
    "for expiter, expname in enumerate( exparr ):\n",
    "    if expiter == 0: #S4-wide\n",
    "        data_folder = '/Volumes/data_PHD_WD_babbloo/s4/cmbs4/map_based_simulations/%s/4096/' %(which_sim_set)\n",
    "        param_dict['cl_gal_dic_dust_fname'] = '%s/dust/0000/s4like_mask_v2/cls_galactic_sims_dust_nside%s_lmax%s_cos_el_40.npy' %(data_folder, nside, lmax)\n",
    "        param_dict['cl_gal_dic_sync_fname'] = '%s/synchrotron/0000/s4like_mask_v2/cls_galactic_sims_sync_nside%s_lmax%s_cos_el_40.npy' %(data_folder, nside, lmax)\n",
    "        extra_str = 'pySM3/s4like_mask_v2/'\n",
    "        which_gal_mask = 2\n",
    "    elif expiter == 1: #S4-delensing\n",
    "        data_folder = '/Volumes/data_PHD_WD_babbloo/s4/cmbs4/map_based_simulations/%s/4096/' %(which_sim_set)\n",
    "        param_dict['cl_gal_dic_dust_fname'] = '%s/dust/0000/s4delensing_mask/cls_galactic_sims_dust_nside%s_lmax%s_delensing.npy' %(data_folder, nside, lmax)\n",
    "        param_dict['cl_gal_dic_sync_fname'] = '%s/synchrotron/0000/s4delensing_mask/cls_galactic_sims_sync_nside%s_lmax%s_delensing.npy' %(data_folder, nside, lmax)\n",
    "        extra_str = 'pySM3/s4delensing_mask/'\n",
    "        which_gal_mask = 0\n",
    "    cl_gal_dic[expname] = {}\n",
    "    for freq in freqarr:\n",
    "        el, cl_dust = fg.get_cl_galactic(param_dict, 'dust', freq, freq, which_spec = which_spec, which_gal_mask = which_gal_mask, bl_dic = bl_dic, use_sed_scaling = True, use_power_law_fit = False)\n",
    "        el, cl_sync = fg.get_cl_galactic(param_dict, 'sync', freq, freq, which_spec = which_spec, which_gal_mask = which_gal_mask, bl_dic = bl_dic)\n",
    "        if (1):\n",
    "            el = el[:max_l]\n",
    "            cl_sync = cl_sync[:max_l]\n",
    "            cl_dust = cl_dust[:max_l]\n",
    "        cl_dust_fit, dust_pars = perform_fit(el, cl_dust, ell_norm = ell_norm)\n",
    "        cl_sync_fit, sync_pars = perform_fit(el, cl_sync, ell_norm = ell_norm)\n",
    "        cl_gal_dic[expname][freq] = {}\n",
    "        cl_gal_dic[expname][freq]['dust'] = [el, cl_dust, cl_dust_fit, dust_pars]\n",
    "        cl_gal_dic[expname][freq]['sync'] = [el, cl_sync, cl_sync_fit, sync_pars]\n",
    "print(cl_gal_dic.keys())"
   ]
  },
  {
   "cell_type": "code",
   "execution_count": 48,
   "metadata": {},
   "outputs": [],
   "source": [
    "#CAMB output for plotting\n",
    "camb_file = param_dict['Dlfile_len']\n",
    "Tcmb = 2.725\n",
    "el_camb = np.loadtxt(camb_file, usecols = [0])\n",
    "dl_camb = np.loadtxt(camb_file, usecols = [1,2,3,4])\n",
    "\n",
    "cl_camb = ( Tcmb**2. * dl_camb * 2 * np.pi ) / ( el_camb[:,None] * (el_camb[:,None] + 1) )\n",
    "cl_camb *= 1e12\n",
    "cl_TT, cl_EE, cl_BB, cl_TE = cl_camb.T"
   ]
  },
  {
   "cell_type": "code",
   "execution_count": null,
   "metadata": {},
   "outputs": [
    {
     "name": "stdout",
     "output_type": "stream",
     "text": [
      "\tDust\n",
      "\t\tS4-Wide (Band = 145 GHz): Amplitude = 1.231, Slope = -0.371\n",
      "\t\tS4-Ultra deep (Band = 145 GHz): Amplitude = 0.457, Slope = -0.328\n",
      "\tSync\n",
      "\t\tS4-Wide (Band = 93 GHz): Amplitude = 0.010, Slope = -0.400\n",
      "\t\tS4-Ultra deep (Band = 93 GHz): Amplitude = 0.002, Slope = -0.400\n"
     ]
    },
    {
     "data": {
      "text/plain": [
       "<Figure size 900x600 with 0 Axes>"
      ]
     },
     "metadata": {},
     "output_type": "display_data"
    }
   ],
   "source": [
    "#plot\n",
    "clf()\n",
    "fig = figure(figsize=(10., 6.))\n",
    "subplots_adjust(wspace=0.05)\n",
    "xmin, xmax = 10, 1000\n",
    "ymin, ymax = 1e-8, 10.\n",
    "exp_dic = {'s4wide': ['S4-Wide', 'red'], 's4deep': ['S4-Ultra deep', 'navy']}\n",
    "dust_sync_freq_dic = {'dust':145, 'sync':93}\n",
    "sync_freq = 93\n",
    "for sbpl, dust_or_sync in enumerate(['dust', 'sync']):\n",
    "    print('\\t%s' %(dust_or_sync.capitalize()))\n",
    "    ax=subplot(2,2,sbpl+1, yscale = 'log')\n",
    "    plot(el_camb, cl_TT, 'gray', lw = 2., alpha = 0.3, zorder = -1000.)#, label = r'%s' %(which_spec))\n",
    "    for expcntr, expname in enumerate( exparr ):\n",
    "        whichfreq = dust_sync_freq_dic[dust_or_sync]\n",
    "        explabval, colorval = exp_dic[expname]\n",
    "        el, cl, cl_fit, pars = cl_gal_dic[expname][whichfreq][dust_or_sync]\n",
    "        print('\\t\\t%s (Band = %s GHz): Amplitude = %.3f, Slope = %.3f' %(explabval, whichfreq, pars[0], pars[1]))\n",
    "        plot(el, cl, color = colorval, ls = ':', alpha = 0.5)\n",
    "        plot(el, cl_fit, color = colorval, ls = '-', label = explabval)\n",
    "    if sbpl == 0:\n",
    "        plot([], [], 'k:', alpha = 0.5, label = r'pySM')\n",
    "        fitlabstr = r'Fit: A$\\left(\\ell/\\ell_{\\rm norm}\\right)^{\\alpha}$'\n",
    "        fitlabstr = r'Fit: A$\\left(\\ell/%s\\right)^{\\alpha}$' %(ell_norm)\n",
    "        plot([], [], 'k-', label = fitlabstr)\n",
    "        ylabel(r'$C_{\\ell}\\ [\\mu {\\rm K}^{2}]$', fontsize = 14)\n",
    "        legend(loc = 4, ncol = 2, fontsize = 10)\n",
    "    else:\n",
    "        setp(ax.get_yticklabels(which = 'both'), visible=False)\n",
    "    title(r'%s (Band = %s GHz): %s' %(dust_or_sync.capitalize(), whichfreq, which_spec))\n",
    "    xlim(xmin, xmax); ylim(ymin, ymax)\n",
    "    if (1):\n",
    "        #xlabel(r'Multipole $\\ell$', fontsize = 14)\n",
    "        setp(ax.get_xticklabels(which = 'both'), visible=False)\n",
    "    axvline(ell_norm, ls = '-.')\n",
    "    grid(True, which='major', axis = 'x', lw = 0.5, alpha = 0.1)\n",
    "    #grid(True, which='minor', axis = 'x', lw = 0.25, alpha = 0.1)\n",
    "    grid(True, which='both', axis = 'y', lw = 0.5, alpha = 0.1)\n",
    "    grid(True, which='minor', axis = 'y', lw = 0.25, alpha = 0.1)\n",
    "\n",
    "    ax=subplot(2,2,sbpl+3, yscale = 'log')\n",
    "    el_s4wide, cl_s4wide, cl_fit_s4wide, pars_s4wide = cl_gal_dic['s4wide'][whichfreq][dust_or_sync]\n",
    "    el_s4deep, cl_s4deep, cl_fit_s4deep, pars_s4deep = cl_gal_dic['s4deep'][whichfreq][dust_or_sync]\n",
    "    plot(el_s4wide, cl_s4wide/cl_s4deep, 'k', ls = ':', alpha = 0.5)\n",
    "    plot(el_s4wide, cl_fit_s4wide/cl_fit_s4deep, 'k-')\n",
    "    xlim(xmin, xmax); ylim(0.1, 100.)\n",
    "    xlabel(r'Multipole $\\ell$', fontsize = 14)\n",
    "    axvline(ell_norm, ls = '-.');\n",
    "    grid(True, which='major', axis = 'x', lw = 0.5, alpha = 0.1)\n",
    "    #grid(True, which='minor', axis = 'x', lw = 0.25, alpha = 0.1)\n",
    "    grid(True, which='both', axis = 'y', lw = 0.5, alpha = 0.1)\n",
    "    grid(True, which='minor', axis = 'y', lw = 0.25, alpha = 0.1)\n",
    "    if sbpl == 0:\n",
    "        ylabel(r'S4-Wide/S4-Ultra deep', fontsize = 12)\n",
    "    else:\n",
    "        setp(ax.get_yticklabels(which = 'both'), visible=False)\n",
    "    \n",
    "show(); sys.exit()\n",
    "    "
   ]
  },
  {
   "cell_type": "code",
   "execution_count": null,
   "metadata": {},
   "outputs": [],
   "source": []
  },
  {
   "cell_type": "code",
   "execution_count": null,
   "metadata": {},
   "outputs": [],
   "source": []
  },
  {
   "cell_type": "code",
   "execution_count": null,
   "metadata": {},
   "outputs": [],
   "source": []
  },
  {
   "cell_type": "code",
   "execution_count": null,
   "metadata": {},
   "outputs": [],
   "source": []
  },
  {
   "cell_type": "code",
   "execution_count": null,
   "metadata": {},
   "outputs": [],
   "source": []
  },
  {
   "cell_type": "code",
   "execution_count": null,
   "metadata": {},
   "outputs": [],
   "source": []
  },
  {
   "cell_type": "code",
   "execution_count": null,
   "metadata": {},
   "outputs": [],
   "source": []
  },
  {
   "cell_type": "code",
   "execution_count": null,
   "metadata": {},
   "outputs": [],
   "source": []
  },
  {
   "cell_type": "code",
   "execution_count": 15,
   "metadata": {},
   "outputs": [],
   "source": [
    "mask_str_dic = None\n",
    "#alpha_dic = {93: 0.3, 145: 0.6, 225: 0.8, 278: 1.}\n",
    "alpha_dic = {93: .5, 145: 1., 225: 1., 278: 1.}\n",
    "lw_dic = {93: 1., 145: 1., 225: 1.5, 278: 2.}\n",
    "ls_dic = {93: '-.', 145: '-', 225: '--', 278: ':'}\n",
    "\n",
    "tot_mask_iter = 4\n",
    "color_dic = {0:'navy', 1: 'green', 2: 'goldenrod', 3: 'darkred'}\n",
    "\n",
    "tot_mask_iter = 5\n",
    "color_dic = {0:'navy', 1: 'green', 2: 'goldenrod', 3: 'orangered', 4: 'darkred'}\n",
    "\n",
    "tot_mask_iter = 4\n",
    "color_dic = {0:'navy', 1: 'green', 2: 'goldenrod', 3: 'darkred'}\n",
    "reqd_masks = []\n",
    "if extra_str.find('s4like_mask_v2')>-1 or extra_str.find('s4delensing')>-1:\n",
    "    tot_mask_iter = 6\n",
    "    if extra_str.find('s4delensing')>-1:\n",
    "        reqd_masks = [0]\n",
    "    else:\n",
    "        #reqd_masks = [0, 1, 2, 3, 4, 5]\n",
    "        reqd_masks = [2]#, 5]\n",
    "    which_spec = 'TT' #EE'#'TT' #EE' #TT'"
   ]
  },
  {
   "cell_type": "code",
   "execution_count": 24,
   "metadata": {},
   "outputs": [],
   "source": []
  },
  {
   "cell_type": "code",
   "execution_count": 25,
   "metadata": {},
   "outputs": [
    {
     "name": "stdout",
     "output_type": "stream",
     "text": [
      "[197.96093808  -0.4       ]\n",
      "[ 0.05296323 -0.4       ]\n",
      "\n",
      " (93, 93)\n",
      "[ 1.23832132e+03 -4.00000000e-01]\n",
      "[ 0.00488888 -0.4       ]\n",
      "\n",
      " (145, 145)\n"
     ]
    },
    {
     "data": {
      "text/plain": [
       "<Figure size 900x600 with 0 Axes>"
      ]
     },
     "metadata": {},
     "output_type": "display_data"
    },
    {
     "data": {
      "image/png": "[encoded data removed]",
      "text/plain": [
       "<Figure size 1200x600 with 2 Axes>"
      ]
     },
     "metadata": {},
     "output_type": "display_data"
    },
    {
     "ename": "SystemExit",
     "evalue": "",
     "output_type": "error",
     "traceback": [
      "An exception has occurred, use %tb to see the full traceback.\n",
      "\u001b[0;31mSystemExit\u001b[0m\n"
     ]
    },
    {
     "name": "stderr",
     "output_type": "stream",
     "text": [
      "/usr/local/lib/python3.9/site-packages/IPython/core/interactiveshell.py:3426: UserWarning: To exit: use 'exit', 'quit', or Ctrl-D.\n",
      "  warn(\"To exit: use 'exit', 'quit', or Ctrl-D.\", stacklevel=1)\n"
     ]
    }
   ],
   "source": [
    "show_sync = 1\n",
    "clf()\n",
    "if show_sync:\n",
    "    fig = figure(figsize=(8., 4.))\n",
    "    subplots_adjust(wspace=0.05)\n",
    "#xscale_val = 'log' ##None#'log' #None\n",
    "xscale_val = None\n",
    "freqarr=[93, 145]\n",
    "tot_freq_iter = len(freqarr)\n",
    "which_gal_mask = 2 \n",
    "plot_done = []\n",
    "xmin = 10\n",
    "xmax = 1000#7100 #lmax+100\n",
    "ymin, ymax = 1e-10, 10.\n",
    "Tdust, beta_dust = 20., 1.54 #https://pysm3.readthedocs.io/en/latest/models.html#dust\n",
    "#Tdust, beta_dust = 20., 1.3 #https://pysm3.readthedocs.io/en/latest/models.html#dust\n",
    "color_dic = {}\n",
    "color_dic[(93, 93)] = 'navy'\n",
    "color_dic[(145, 145)] = 'red'\n",
    "for freq1 in freqarr:\n",
    "    for freq2 in freqarr:\n",
    "\n",
    "        if (freq1, freq2) in plot_done: continue\n",
    "\n",
    "        if freq1 != freq2: continue\n",
    "\n",
    "        el, cl_dust = fg.get_cl_galactic(param_dict, 'dust', freq1, freq2, which_spec = which_spec, which_gal_mask = which_gal_mask, bl_dic = bl_dic, use_sed_scaling = True, use_power_law_fit = False)\n",
    "        el, cl_sync = fg.get_cl_galactic(param_dict, 'sync', freq1, freq2, which_spec = which_spec, which_gal_mask = which_gal_mask, bl_dic = bl_dic)\n",
    "\n",
    "        if (1): #perform fitting\n",
    "            for dust_sync_iter in range(2):\n",
    "                if dust_sync_iter == 0:\n",
    "                    cl_dust_sync = np.copy(cl_dust)\n",
    "                elif dust_sync_iter == 1:\n",
    "                    cl_dust_sync = np.copy(cl_sync)\n",
    "                if dust_sync_iter == 0: \n",
    "                    cl_dust_fit = perform_fit(el, cl_dust_sync, ell_norm = ell_norm)\n",
    "                elif dust_sync_iter == 1: \n",
    "                    cl_sync_fit = perform_fit(el, cl_dust_sync, ell_norm = ell_norm)\n",
    "\n",
    "        print('\\n', (freq1, freq2))\n",
    "        if freq1 == 93:\n",
    "            delta_ell = 50\n",
    "        elif freq1 == 145:\n",
    "            delta_ell = 100\n",
    "        delta_ell = 50\n",
    "        el_to_plot = np.arange(min(el), max(el)+1, delta_ell)\n",
    "\n",
    "        plot_done.append((freq1, freq2))\n",
    "        #lab = '%s: (%s,%s)' %(which_gal_mask, freq1, freq2)\n",
    "        lab = r'(%s$\\times$%s)' %(freq1, freq2)\n",
    "\n",
    "        lwval = 1. #lw_dic[freq1]\n",
    "        colorval = color_dic[(freq1, freq2)]\n",
    "        alphaval = 1. #alpha_dic[freq1]\n",
    "        lsval = '-' #ls_dic[freq1]\n",
    "        #lwval = 1.\n",
    "        #lab = None\n",
    "        if cl_dust is not None:\n",
    "            if show_sync:\n",
    "                ax = subplot(1,2,1, yscale = 'log', xscale=xscale_val)\n",
    "            else:\n",
    "                ax = subplot(111, yscale = 'log', xscale=xscale_val)\n",
    "            if (1):\n",
    "                cl_dust_to_plot = np.interp(el_to_plot, el, cl_dust)\n",
    "                #cl_dust_with_beam_to_plot = np.interp(el_to_plot, el, cl_dust_with_beam)\n",
    "            else:\n",
    "                el_to_plot = np.copy(el)\n",
    "                cl_dust_to_plot = np.copy( cl_dust )\n",
    "                #cl_dust_with_beam_to_plot = np.copy( cl_dust_with_beam)\n",
    "            plot(el_to_plot, cl_dust_to_plot, label = lab, lw = 1., linestyle = lsval, color = colorval, alpha = alphaval)\n",
    "            plot(el, cl_dust_fit, lw = 1., color = colorval, ls = '--')\n",
    "\n",
    "            ylabel(r'$C_{\\ell}\\ [\\mu {\\rm K}^{2}]$', fontsize = 14)\n",
    "            title(r'Dust: %s' %(which_spec))\n",
    "            xlim(xmin, xmax); ylim(ymin, ymax)\n",
    "            xlabel(r'Multipole $\\ell$', fontsize = 14)\n",
    "\n",
    "        if cl_sync is not None and show_sync:\n",
    "            cl_sync_to_plot = np.interp(el_to_plot, el, cl_sync)                            \n",
    "            ax = subplot(1,2,2, yscale = 'log', xscale=xscale_val)\n",
    "            plot(el, cl_sync, label = lab, lw = 0.5, linestyle = lsval, color = colorval, alpha = alphaval)\n",
    "            #plot(el, cl_sync_fit, lw = 1., color = colorval, ls = '--')\n",
    "            #plot(el_to_plot, cl_sync_to_plot, label = lab, lw = lwval, linestyle = lsval, color = colorval, alpha = alphaval)\n",
    "            setp(ax.get_yticklabels(which = 'both'), visible=False)\n",
    "            title(r'Synchrotron: %s' %(which_spec))\n",
    "\n",
    "            xlim(xmin, xmax); ylim(ymin, ymax)\n",
    "            xlabel(r'Multipole $\\ell$', fontsize = 14)\n",
    "\n",
    "if show_sync:\n",
    "    totcntr = 2\n",
    "else:\n",
    "    totcntr = 1\n",
    "for tmpcntr in range(totcntr):\n",
    "    if show_sync:\n",
    "        ax = subplot(1,2,tmpcntr+1, yscale = 'log', xscale=xscale_val)\n",
    "    else:\n",
    "        ax = subplot(1,1,tmpcntr+1, yscale = 'log', xscale=xscale_val)\n",
    "        #text(2000., 1e-5, r'-. Power law fit to 278 GHz and scaled to other bands (T)')\n",
    "    plot(el_camb, cl_TT, 'gray', lw = 2., alpha = 0.3, zorder = -1000.)#, label = r'%s' %(which_spec))\n",
    "                \n",
    "legend(loc = 1, ncol = 2, fontsize = 10)\n",
    "\n",
    "if (0):\n",
    "    extra_str_tmp = extra_str.split('/')[0].replace('_', '\\_')\n",
    "    if len(freqarr)>1:\n",
    "        title(r'%s: %s (%s)' %(which_spec, which_comp.capitalize(), extra_str_tmp), fontsize = 14)\n",
    "    else:\n",
    "        title(r'%s: %s (%s): %s GHz' %(which_spec, which_comp.capitalize(), extra_str_tmp, freqarr[0]), fontsize = 14)\n",
    "\n",
    "    #xlim(None, 200); ylim(1e-6, 1e-2)\n",
    "suptitle('Sim set = %s' %(which_sim_set.replace('_','\\_')), fontsize = 12, y = 1.0)\n",
    "show();sys.exit()\n",
    "plfolder = 'reports/galactic_sims/dust_sync_spectra/%s/' %(extra_str)\n",
    "os.system('mkdir -p %s' %(plfolder))\n",
    "#savefig('%s/dust_sync_%s.pdf' %(plfolder, which_spec))"
   ]
  },
  {
   "cell_type": "code",
   "execution_count": null,
   "metadata": {},
   "outputs": [],
   "source": []
  },
  {
   "cell_type": "code",
   "execution_count": null,
   "metadata": {},
   "outputs": [],
   "source": []
  },
  {
   "cell_type": "code",
   "execution_count": null,
   "metadata": {},
   "outputs": [],
   "source": []
  },
  {
   "cell_type": "code",
   "execution_count": null,
   "metadata": {},
   "outputs": [],
   "source": []
  },
  {
   "cell_type": "code",
   "execution_count": null,
   "metadata": {},
   "outputs": [],
   "source": [
    "#show beams\n",
    "for freq in freqarr:\n",
    "    beam, noise = beam_noise_dic['T'][freq]\n",
    "    subplot(121)\n",
    "    plot(bl_dic[freq], color = color_dic[(freq, freq)], label = r'%s GHz: %s$^{\\prime}$' %(freq, beam))\n",
    "    subplot(122)\n",
    "    plot(bl_dic[145]/bl_dic[freq], color = color_dic[(freq, freq)])\n",
    "    xlabel(r'Multipole $\\ell$', fontsize = 14)\n",
    "    xlim(xmin, xmax); \n",
    "subplot(121)\n",
    "ylabel(r'B$_{\\ell}$', fontsize = 14)\n",
    "ylim(0., 1.)\n",
    "legend(loc = 3, ncol = 1, fontsize = 10)\n",
    "subplot(122)\n",
    "ylim(0., 50.)\n",
    "show()"
   ]
  },
  {
   "cell_type": "code",
   "execution_count": null,
   "metadata": {},
   "outputs": [],
   "source": []
  },
  {
   "cell_type": "code",
   "execution_count": null,
   "metadata": {},
   "outputs": [],
   "source": []
  },
  {
   "cell_type": "code",
   "execution_count": null,
   "metadata": {},
   "outputs": [],
   "source": []
  }
 ],
 "metadata": {
  "kernelspec": {
   "display_name": "Python 3",
   "language": "python",
   "name": "python3"
  },
  "language_info": {
   "codemirror_mode": {
    "name": "ipython",
    "version": 3
   },
   "file_extension": ".py",
   "mimetype": "text/x-python",
   "name": "python",
   "nbconvert_exporter": "python",
   "pygments_lexer": "ipython3",
   "version": "3.9.1"
  }
 },
 "nbformat": 4,
 "nbformat_minor": 2
}
