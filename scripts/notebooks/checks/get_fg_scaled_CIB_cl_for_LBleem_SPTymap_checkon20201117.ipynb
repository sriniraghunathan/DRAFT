{
 "cells": [
  {
   "cell_type": "code",
   "execution_count": 1,
   "metadata": {},
   "outputs": [],
   "source": [
    "%load_ext autoreload\n",
    "%autoreload 2\n",
    "\n",
    "#%pylab notebook\n",
    "%matplotlib inline\n",
    "from pylab import *\n",
    "from matplotlib import rc;rc('text', usetex=True);rc('font', weight='bold');matplotlib.rcParams['text.latex.preamble'] = [r'\\boldmath']\n",
    "rcParams[\"figure.facecolor\"] = 'white'"
   ]
  },
  {
   "cell_type": "code",
   "execution_count": 34,
   "metadata": {},
   "outputs": [],
   "source": [
    "rcParams['figure.dpi'] = 150\n",
    "rcParams[\"figure.facecolor\"] = 'white'\n",
    "rcParams[\"font.family\"] = 'Times New Roman'\n",
    "rc('text.latex',preamble=r'\\usepackage{/Users/sraghunathan/.configs/apjfonts}')"
   ]
  },
  {
   "cell_type": "code",
   "execution_count": 35,
   "metadata": {},
   "outputs": [],
   "source": [
    "import argparse, sys, numpy as np, scipy as sc, os\n",
    "sys.path.append('/Users/sraghunathan/Research/SPTPol/analysis/git/DRAFT/modules/')\n",
    "import foregrounds_with_scalings as fg"
   ]
  },
  {
   "cell_type": "code",
   "execution_count": 36,
   "metadata": {},
   "outputs": [],
   "source": [
    "#params\n",
    "spt_bands = np.asarray( [95, 150, 220] )\n",
    "#planck_bands = []#np.asarray( [30, 44, 70, 100, 143, 217, 353] )#, 545, 857]\n",
    "planck_bands = np.asarray( [100, 143, 217, 353] )#, 545, 857]\n",
    "freqarr = sorted( np.concatenate( (spt_bands, planck_bands) ) )\n",
    "only_auto_spectra = 0\n",
    "freq0 = 150\n",
    "lmax = 1e4\n",
    "fg_model = 'reichardt' \n",
    "#fg_model = 'george'\n",
    "if fg_model == 'george':\n",
    "    fg_model_type = 'G15'\n",
    "    spec_index_rg = -0.9##-0.9869688 ##-0.9\n",
    "    spec_index_dg_po = 1.505 ##1.506845 ##1.505\n",
    "    spec_index_dg_clus = 2.51 ##2.536784 ##2.51\n",
    "    dg_clus_template_id = 0 ##1\n",
    "    cib_temp = 20.\n",
    "elif fg_model == 'reichardt':\n",
    "    fg_model_type = 'R20'\n",
    "    spec_index_rg = -0.76 ##-0.817\n",
    "    spec_index_dg_po = 1.48 ##1.41\n",
    "    spec_index_dg_clus = 2.23 ##2.29\n",
    "    dg_clus_template_id = 0\n",
    "    cib_temp = 25."
   ]
  },
  {
   "cell_type": "code",
   "execution_count": 37,
   "metadata": {},
   "outputs": [],
   "source": [
    "def fn_normalize(data,Nmin=0.,Nmax=1.):\n",
    "    \n",
    "    data = np.asarray( data )\n",
    "\n",
    "    arrmin,arrmax=min(data),max(data)\n",
    "    normed_data=(data-arrmin)/(arrmax-arrmin)\n",
    "    normed_data=normed_data*Nmax+Nmin\n",
    "\n",
    "    return normed_data\n",
    "\n",
    "#for plotting\n",
    "#same as Fig.3 of G15 https://arxiv.org/pdf/1408.3161.pdf\n",
    "ymin, ymax = 0.5, 1e3\n",
    "xmin, xmax = 2e3, 12e3\n",
    "\n",
    "xmin, xmax = 10, 12e3\n",
    "ymin, ymax = 0.5, 1e5\n",
    "\n",
    "#get the colours for different frequencies\n",
    "if (0):#only_auto_spectra: \n",
    "    freq_arr_norm = fn_normalize(freqarr, Nmin=0.,Nmax=255.)\n",
    "    colorarr = [cm.jet(int(d)) for d in freq_arr_norm]\n",
    "    colordic = {}\n",
    "    for cntr, freq in enumerate( sorted(freqarr) ):\n",
    "        colordic[(freq,freq)] = colorarr[cntr]\n",
    "else:\n",
    "    colorarr = [cm.jet(int(d)) for d in np.linspace(0, 255, len(freqarr)**2)]\n",
    "    colordic = {}\n",
    "    cntr = 0\n",
    "    for freq1 in sorted(freqarr):\n",
    "        for freq2 in sorted(freqarr):\n",
    "            if (freq2, freq1) in colordic: colordic[(freq1,freq2)] = colordic[(freq2,freq1)]\n",
    "            colordic[(freq1,freq2)] = colorarr[cntr]\n",
    "            cntr += 1"
   ]
  },
  {
   "cell_type": "code",
   "execution_count": 38,
   "metadata": {},
   "outputs": [],
   "source": [
    "def fn_return_eff_bands(freq0, which_spt_0, freq1, freq2, which_spt_1, fg_component):\n",
    "\n",
    "    band0 = '%dGHz' %(freq0)\n",
    "    band1 = '%dGHz' %(freq1)\n",
    "    band2 = '%dGHz' %(freq2)  \n",
    "    \n",
    "    #ref. frequency for reference band and ref. SPT experiment\n",
    "    freq0_eff = fg.get_spt_effective_frequencies(which_spt_0, band0, fg_component)\n",
    "\n",
    "    #get effective band centres for new SPT experiment at freq1, freq2\n",
    "    freq1_eff = fg.get_spt_effective_frequencies(which_spt_1, band1, fg_component)\n",
    "    freq2_eff = fg.get_spt_effective_frequencies(which_spt_1, band2, fg_component)\n",
    "\n",
    "    return freq0_eff, freq1_eff, freq2_eff\n",
    "\n",
    "def get_effective_frequencies(band, fg_component, fg_model):\n",
    "    if fg_model == 'george':\n",
    "        if fg_component == 'DG-Cl':\n",
    "            spt_dic = {95: 100.318, 150: 156.760, 220: 221.805}\n",
    "            planck_dic = {100: 103.759, 143: 146.010, 217: 225.376, 353: 355.693, 545: 552.131, 857:832.650}\n",
    "        elif fg_component == 'DG-Po':\n",
    "            spt_dic = {95: 99.8975, 150: 156.342, 220: 221.418}\n",
    "            planck_dic = {100: 103.343, 143: 145.481, 217: 224.657, 353: 354.896, 545: 549.951, 857:829.128}    \n",
    "    elif fg_model == 'reichardt':\n",
    "        if fg_component == 'DG-Cl':\n",
    "            spt_dic = {95: 100.213, 150: 156.661, 220: 221.724}\n",
    "            planck_dic = {100: 103.759, 143: 146.010, 217: 225.376, 353: 355.693, 545: 552.131, 857:832.650}\n",
    "        elif fg_component == 'DG-Po':\n",
    "            spt_dic = {95: 99.9050, 150: 156.353, 220: 221.445}\n",
    "            planck_dic = {100: 103.343, 143: 145.481, 217: 224.657, 353: 354.896, 545: 549.951, 857:829.128}    \n",
    "    full_dic = {}\n",
    "    for nu in spt_dic:\n",
    "        full_dic[nu] = spt_dic[nu]\n",
    "    for nu in planck_dic:\n",
    "        full_dic[nu] = planck_dic[nu]\n",
    "    if band in full_dic:\n",
    "        return full_dic[band]        \n",
    "    else:\n",
    "        return band"
   ]
  },
  {
   "cell_type": "code",
   "execution_count": 39,
   "metadata": {},
   "outputs": [
    {
     "name": "stdout",
     "output_type": "stream",
     "text": [
      "['DG-Cl', 'DG-Po', 'el', 'fg_model'] reichardt\n"
     ]
    }
   ],
   "source": [
    "#files given to Lindsey on May 26, 2020\n",
    "lbleem_fd = '/Users/sraghunathan/Research/SPTPol/analysis/2020_07/ksz_ps/cib_checks/R20_G15/'\n",
    "lbleem_fname = '%s/cl_cib_reichardt20_onehalohaloterms.npy' %(lbleem_fd)\n",
    "lblem_dic = np.load(lbleem_fname, allow_pickle=1).item()\n",
    "lbleem_el, lbleem_dgcl, lbleem_dgpo = lblem_dic['el'], lblem_dic['DG-Cl'], lblem_dic['DG-Po']\n",
    "lbleem_fgmodel = lblem_dic['fg_model']\n",
    "print(sorted(lblem_dic.keys()), lbleem_fgmodel)"
   ]
  },
  {
   "cell_type": "code",
   "execution_count": 49,
   "metadata": {},
   "outputs": [
    {
     "name": "stderr",
     "output_type": "stream",
     "text": [
      "/Users/sraghunathan/Research/SPTPol/analysis/git/DRAFT/modules/foregrounds_with_scalings.py:459: RuntimeWarning: invalid value encountered in true_divide\n",
      "  cl_dg_po = dl_dg_po / dl_fac\n",
      "/Users/sraghunathan/Research/SPTPol/analysis/git/DRAFT/modules/foregrounds_with_scalings.py:460: RuntimeWarning: invalid value encountered in true_divide\n",
      "  cl_dg_clus = dl_dg_clus / dl_fac\n"
     ]
    },
    {
     "data": {
      "image/png": "[encoded data removed]",
      "text/plain": [
       "<Figure size 900x600 with 2 Axes>"
      ]
     },
     "metadata": {},
     "output_type": "display_data"
    }
   ],
   "source": [
    "#DG galaxies\n",
    "#titstr = 'Both 1- and 2-halo terms'\n",
    "titstr = 'Only 1-halo'\n",
    "cl_cib_dic = {}\n",
    "clf()\n",
    "subplots_adjust(wspace = 0.01)\n",
    "#fig = figure(figsize=(8., 5.))\n",
    "xmin, xmax = 100, 1e4\n",
    "ymin, ymax = 1e-8, 1e-1\n",
    "only_auto_spectra = 1\n",
    "for fgcntr, fg_component in enumerate(['DG-Po', 'DG-Cl']):\n",
    "    cl_cib_dic[fg_component] = {}\n",
    "    ax =subplot(1,2,fgcntr+1, yscale = 'log')\n",
    "    for freq1 in sorted(freqarr):\n",
    "        for freq2 in sorted(freqarr):\n",
    "\n",
    "            if only_auto_spectra and freq1 != freq2: continue\n",
    "\n",
    "            #freq0_eff, freq1_eff, freq2_eff = fn_return_eff_bands(freq0_ghz, fg_model, freq1, freq2, fg_model, 'DG')                \n",
    "            #freq0_eff, freq1_eff, freq2_eff = freq0, freq1, freq2\n",
    "            freq0_eff = get_effective_frequencies(freq0, fg_component, fg_model)\n",
    "            freq1_eff = get_effective_frequencies(freq1, fg_component, fg_model)\n",
    "            freq2_eff = get_effective_frequencies(freq2, fg_component, fg_model)\n",
    "\n",
    "            band1, band2 = '%dGHz'%(freq1), '%dGHz' %(freq2)\n",
    "            band0 = '%dGHz' %(freq0)\n",
    "\n",
    "            lwval = 0.5\n",
    "            alphaval = 1.\n",
    "            lsval = '-'\n",
    "            labval = r'(%s,%s)' %(freq1, freq2)\n",
    "            el, cl_dg_po, cl_dg_clus = fg.get_cl_dusty_galaxies(freq1_eff, freq2_eff, band0 = band0, fg_model = fg_model, spec_index_dg_po = spec_index_dg_po, spec_index_dg_clus = spec_index_dg_clus, dg_clus_template_id = dg_clus_template_id, cib_temp = cib_temp, return_ells = 1)\n",
    "\n",
    "            #dl_fac = el * (el+1) / 2/ np.pi\n",
    "\n",
    "            if fgcntr == 0:                    \n",
    "                cl_cib_dic[fg_component][(band1, band2)] = cl_dg_po\n",
    "            else:\n",
    "                cl_cib_dic[fg_component][(band1, band2)] = cl_dg_clus\n",
    "\n",
    "            if freq1 != freq2: \n",
    "                continue\n",
    "            dl_fac = 1.\n",
    "            if fgcntr == 0:                    \n",
    "                plot(el, cl_dg_po * dl_fac, ls = lsval, lw = lwval, label = labval, color = colordic[(freq1, freq2)], alpha = alphaval)\n",
    "                plot(lbleem_el, lbleem_dgpo[(band1, band2)], ls = '--', lw = lwval, color = colordic[(freq1, freq2)])\n",
    "            else:\n",
    "                plot(el, cl_dg_clus * dl_fac, ls = lsval, lw = lwval, label = labval, color = colordic[(freq1, freq2)], alpha = alphaval)\n",
    "                plot(lbleem_el, lbleem_dgcl[(band1, band2)], ls = '--', lw = lwval, color = colordic[(freq1, freq2)])\n",
    "                \n",
    "    xlim(xmin, xmax)\n",
    "    ylim(ymin, ymax)\n",
    "    xlabel(r'Multipole $\\ell$');\n",
    "    if fgcntr == 0:\n",
    "        tit = 'DG-Po'\n",
    "        legend(loc = 4, ncol = 3, fontsize = 6)\n",
    "    else:\n",
    "        tit = 'DG-Cl'\n",
    "        legend(loc = 4, ncol = 3, fontsize = 6)\n",
    "    title(r'%s' %(tit), fontsize = 10)\n",
    "    if fgcntr == 0:\n",
    "        ylabel(r'C$_{\\ell}\\ [\\mu {\\rm K}^{2}]$')\n",
    "    else:\n",
    "        setp(ax.get_yticklabels(which = 'both'), visible=False)\n",
    "\n",
    "    for label in ax.get_xticklabels(): label.set_fontsize(7)\n",
    "    for label in ax.get_yticklabels(): label.set_fontsize(7)\n",
    "\n",
    "suptitle(r'%s' %(titstr), fontsize = 12)\n",
    "cl_cib_dic['el'] = el\n",
    "cl_cib_dic['fg_model'] = fg_model"
   ]
  },
  {
   "cell_type": "code",
   "execution_count": null,
   "metadata": {},
   "outputs": [],
   "source": []
  },
  {
   "cell_type": "code",
   "execution_count": null,
   "metadata": {},
   "outputs": [],
   "source": []
  },
  {
   "cell_type": "code",
   "execution_count": 8,
   "metadata": {},
   "outputs": [
    {
     "name": "stdout",
     "output_type": "stream",
     "text": [
      "results/spt/sptsz_pol/cib/cl_cib_reichardt20_onehalohaloterms\n"
     ]
    },
    {
     "ename": "FileNotFoundError",
     "evalue": "[Errno 2] No such file or directory: 'results/spt/sptsz_pol/cib/cl_cib_reichardt20_onehalohaloterms.npy'",
     "output_type": "error",
     "traceback": [
      "\u001b[0;31m---------------------------------------------------------------------------\u001b[0m",
      "\u001b[0;31mFileNotFoundError\u001b[0m                         Traceback (most recent call last)",
      "\u001b[0;32m<ipython-input-8-6a9951fb0a54>\u001b[0m in \u001b[0;36m<module>\u001b[0;34m\u001b[0m\n\u001b[1;32m      4\u001b[0m     \u001b[0mfname\u001b[0m \u001b[0;34m=\u001b[0m \u001b[0;34m'results/spt/sptsz_pol/cib/cl_cib_reichardt20_onehalohaloterms'\u001b[0m\u001b[0;34m\u001b[0m\u001b[0;34m\u001b[0m\u001b[0m\n\u001b[1;32m      5\u001b[0m \u001b[0mprint\u001b[0m\u001b[0;34m(\u001b[0m\u001b[0mfname\u001b[0m\u001b[0;34m)\u001b[0m\u001b[0;34m\u001b[0m\u001b[0;34m\u001b[0m\u001b[0m\n\u001b[0;32m----> 6\u001b[0;31m \u001b[0mnp\u001b[0m\u001b[0;34m.\u001b[0m\u001b[0msave\u001b[0m\u001b[0;34m(\u001b[0m\u001b[0mfname\u001b[0m\u001b[0;34m,\u001b[0m \u001b[0mcl_cib_dic\u001b[0m\u001b[0;34m)\u001b[0m\u001b[0;34m\u001b[0m\u001b[0;34m\u001b[0m\u001b[0m\n\u001b[0m",
      "\u001b[0;32m/Library/Frameworks/Python.framework/Versions/3.7/lib/python3.7/site-packages/numpy/lib/npyio.py\u001b[0m in \u001b[0;36msave\u001b[0;34m(file, arr, allow_pickle, fix_imports)\u001b[0m\n\u001b[1;32m    522\u001b[0m         \u001b[0;32mif\u001b[0m \u001b[0;32mnot\u001b[0m \u001b[0mfile\u001b[0m\u001b[0;34m.\u001b[0m\u001b[0mendswith\u001b[0m\u001b[0;34m(\u001b[0m\u001b[0;34m'.npy'\u001b[0m\u001b[0;34m)\u001b[0m\u001b[0;34m:\u001b[0m\u001b[0;34m\u001b[0m\u001b[0;34m\u001b[0m\u001b[0m\n\u001b[1;32m    523\u001b[0m             \u001b[0mfile\u001b[0m \u001b[0;34m=\u001b[0m \u001b[0mfile\u001b[0m \u001b[0;34m+\u001b[0m \u001b[0;34m'.npy'\u001b[0m\u001b[0;34m\u001b[0m\u001b[0;34m\u001b[0m\u001b[0m\n\u001b[0;32m--> 524\u001b[0;31m         \u001b[0mfid\u001b[0m \u001b[0;34m=\u001b[0m \u001b[0mopen\u001b[0m\u001b[0;34m(\u001b[0m\u001b[0mfile\u001b[0m\u001b[0;34m,\u001b[0m \u001b[0;34m\"wb\"\u001b[0m\u001b[0;34m)\u001b[0m\u001b[0;34m\u001b[0m\u001b[0;34m\u001b[0m\u001b[0m\n\u001b[0m\u001b[1;32m    525\u001b[0m         \u001b[0mown_fid\u001b[0m \u001b[0;34m=\u001b[0m \u001b[0;32mTrue\u001b[0m\u001b[0;34m\u001b[0m\u001b[0;34m\u001b[0m\u001b[0m\n\u001b[1;32m    526\u001b[0m \u001b[0;34m\u001b[0m\u001b[0m\n",
      "\u001b[0;31mFileNotFoundError\u001b[0m: [Errno 2] No such file or directory: 'results/spt/sptsz_pol/cib/cl_cib_reichardt20_onehalohaloterms.npy'"
     ]
    }
   ],
   "source": [
    "if fg_model == 'george':\n",
    "    fname = 'results/spt/sptsz_pol/cib/cl_cib_george15_onehalohaloterms'\n",
    "elif fg_model == 'reichardt':\n",
    "    fname = 'results/spt/sptsz_pol/cib/cl_cib_reichardt20_onehalohaloterms'\n",
    "print(fname)\n",
    "np.save(fname, cl_cib_dic)"
   ]
  },
  {
   "cell_type": "code",
   "execution_count": 50,
   "metadata": {},
   "outputs": [
    {
     "ename": "SystemExit",
     "evalue": "",
     "output_type": "error",
     "traceback": [
      "An exception has occurred, use %tb to see the full traceback.\n",
      "\u001b[0;31mSystemExit\u001b[0m\n"
     ]
    }
   ],
   "source": [
    "#store as text files\n",
    "for fgc in ['DG-Po', 'DG-Cl']:\n",
    "    if fg_model == 'george':\n",
    "        fd = 'results/spt/sptsz_pol/cib/cl_cib_%s_george15_onehalohaloterms/' %(fgc)\n",
    "    elif fg_model == 'reichardt':\n",
    "        fd = 'results/spt/sptsz_pol/cib/cl_cib_%s_reichardt20_onehalohaloterms/' %(fgc)\n",
    "    os.system('mkdir -p %s' %(fd))\n",
    "    for bandkeys in cl_cib_dic[fgc]:        \n",
    "        fname = '%s/%s_%s.txt' %(fd, bandkeys[0], bandkeys[1])        \n",
    "        cl = cl_cib_dic[fgc][bandkeys]\n",
    "        np.savetxt(fname, cl)\n",
    "    fname = '%s/els.txt' %(fd)        \n",
    "    np.savetxt(fname, el)\n",
    "\n",
    "sys.exit()\n"
   ]
  },
  {
   "cell_type": "code",
   "execution_count": null,
   "metadata": {},
   "outputs": [],
   "source": []
  },
  {
   "cell_type": "code",
   "execution_count": null,
   "metadata": {},
   "outputs": [],
   "source": []
  },
  {
   "cell_type": "code",
   "execution_count": null,
   "metadata": {},
   "outputs": [],
   "source": []
  },
  {
   "cell_type": "code",
   "execution_count": null,
   "metadata": {},
   "outputs": [],
   "source": []
  },
  {
   "cell_type": "code",
   "execution_count": null,
   "metadata": {},
   "outputs": [],
   "source": []
  },
  {
   "cell_type": "code",
   "execution_count": null,
   "metadata": {},
   "outputs": [],
   "source": [
    "#Radio galaxies\n",
    "ax = subplot(111, yscale = 'log')\n",
    "for iter in range(1):\n",
    "    for freq1 in sorted(freqarr):\n",
    "        print(freq1)\n",
    "        for freq2 in sorted(freqarr):\n",
    "\n",
    "            if only_auto_spectra and freq1 != freq2: continue\n",
    "            \n",
    "            #freq0_eff, freq1_eff, freq2_eff = fn_return_eff_bands(freq0, fg_model, freq1, freq2, fg_model, 'RG')\n",
    "            freq0_eff, freq1_eff, freq2_eff = freq0, freq1, freq2\n",
    "\n",
    "            band1, band2 = '%dGHz'%(freq1), '%dGHz' %(freq2)\n",
    "            band0 = '%dGHz' %(freq0)\n",
    "            \n",
    "            alphaval = 1.\n",
    "            lsval = '-'\n",
    "            lwval = 0.5\n",
    "            labval = r'(%s,%s)' %(freq1, freq2)\n",
    "            el, cl = fg.get_cl_radio(freq1_eff, freq2_eff, band0 = band0, fg_model = fg_model, spec_index_rg = spec_index_rg, return_ells = 1)\n",
    "                \n",
    "            dl_fac = el * (el+1) / 2/ np.pi\n",
    "\n",
    "            plot(el, cl * dl_fac, ls = lsval, lw = lwval, label = labval, color = colordic[(freq1, freq2)], alpha = alphaval)\n",
    "xlim(xmin, xmax)\n",
    "ylim(ymin, ymax)\n",
    "xlabel(r'Multipole $\\ell$'); ylabel(r'D$_{\\ell}\\ [\\mu {\\rm K}^{2}]$')\n",
    "legend(loc = 2, ncol = 3, fontsize = 8)\n",
    "title(r'Radio', fontsize = 14)"
   ]
  },
  {
   "cell_type": "code",
   "execution_count": null,
   "metadata": {},
   "outputs": [],
   "source": []
  },
  {
   "cell_type": "code",
   "execution_count": null,
   "metadata": {},
   "outputs": [],
   "source": [
    "#tSZ\n",
    "ax = subplot(111, yscale = 'log')\n",
    "for iter in range(1):\n",
    "    for freq1 in sorted(freqarr):\n",
    "        for freq2 in sorted(freqarr):\n",
    "\n",
    "            if only_auto_spectra and freq1 != freq2: continue\n",
    "            \n",
    "            #freq0_eff, freq1_eff, freq2_eff = fn_return_eff_bands(freq0_ghz, fg_model, freq1, freq2, fg_model, 'tSZ')\n",
    "            freq0_eff, freq1_eff, freq2_eff = freq0, freq1, freq2\n",
    "            print(freq0_eff, freq1_eff, freq2_eff)\n",
    "\n",
    "            band1, band2 = '%dGHz'%(freq1), '%dGHz' %(freq2)\n",
    "            band0 = '%dGHz' %(freq0)\n",
    "            \n",
    "\n",
    "            alphaval = 1.\n",
    "            lsval = '-'\n",
    "            lwval = 0.5\n",
    "            labval = r'(%s,%s)' %(freq1, freq2)\n",
    "            el, cl = fg.get_cl_tsz(freq1_eff, freq2_eff, band0 = band0, fg_model = fg_model, return_ells = 1)\n",
    "            \n",
    "            dl_fac = el * (el+1) / 2/ np.pi\n",
    "\n",
    "            plot(el, cl * dl_fac, ls = lsval, lw = lwval, label = labval, color = colordic[(freq1, freq2)], alpha = alphaval)\n",
    "xlim(xmin, xmax)\n",
    "ylim(ymin, ymax)\n",
    "xlabel(r'Multipole $\\ell$'); ylabel(r'D$_{\\ell}\\ [\\mu {\\rm K}^{2}]$')\n",
    "legend(loc = 2, ncol = 2, fontsize = 8)\n",
    "title(r'tSZ', fontsize = 14)"
   ]
  }
 ],
 "metadata": {
  "kernelspec": {
   "display_name": "Python 3",
   "language": "python",
   "name": "python3"
  },
  "language_info": {
   "codemirror_mode": {
    "name": "ipython",
    "version": 3
   },
   "file_extension": ".py",
   "mimetype": "text/x-python",
   "name": "python",
   "nbconvert_exporter": "python",
   "pygments_lexer": "ipython3",
   "version": "3.7.3"
  }
 },
 "nbformat": 4,
 "nbformat_minor": 2
}
