{
 "cells": [
  {
   "cell_type": "code",
   "execution_count": 310,
   "metadata": {},
   "outputs": [
    {
     "name": "stdout",
     "output_type": "stream",
     "text": [
      "The autoreload extension is already loaded. To reload it, use:\n",
      "  %reload_ext autoreload\n"
     ]
    }
   ],
   "source": [
    "%load_ext autoreload\n",
    "%autoreload 2\n",
    "\n",
    "#%pylab notebook\n",
    "%matplotlib inline\n",
    "from pylab import *\n",
    "from matplotlib import rc;rc('text', usetex=True);rc('font', weight='bold');matplotlib.rcParams['text.latex.preamble'] = [r'\\boldmath']\n",
    "rcParams['figure.dpi'] = 150\n",
    "rcParams[\"figure.facecolor\"] = 'white'\n",
    "import os\n",
    "rc('text.latex',preamble=r'\\usepackage{/Users/sraghunathan/.configs/apjfonts}')"
   ]
  },
  {
   "cell_type": "code",
   "execution_count": 311,
   "metadata": {},
   "outputs": [],
   "source": [
    "rcParams['figure.dpi'] = 150"
   ]
  },
  {
   "cell_type": "code",
   "execution_count": 312,
   "metadata": {},
   "outputs": [],
   "source": [
    "import argparse, sys, numpy as np, scipy as sc, warnings, os\n",
    "sys.path.append('/Users/sraghunathan/Research/SPTPol/analysis/git/DRAFT/modules/')\n",
    "import flatsky, misc\n",
    "import ilc, foregrounds as fg\n",
    "\n",
    "#import matplotlib.cbook\n",
    "warnings.filterwarnings('ignore',category=RuntimeWarning)\n",
    "#warnings.filterwarnings('ignore', category=DeprecationWarning)\n",
    "#warnings.filterwarnings('ignore', category=matplotlib.cbook.mplDeprecation)"
   ]
  },
  {
   "cell_type": "code",
   "execution_count": 313,
   "metadata": {},
   "outputs": [],
   "source": [
    "#some constants\n",
    "h=6.62607004e-34 #Planck constant in m2 kg / s\n",
    "k_B=1.38064852e-23 #Boltzmann constant in m2 kg s-2 / K-1\n",
    "Tcmb = 2.73 #Kelvin"
   ]
  },
  {
   "cell_type": "code",
   "execution_count": 314,
   "metadata": {},
   "outputs": [],
   "source": [
    "#params\n",
    "paramfile = 'params.ini'\n",
    "\n",
    "# read and store param dict\n",
    "param_dict = misc.fn_get_param_dict(paramfile)\n",
    "el = np.arange(param_dict['lmax'])\n",
    "include_gal = param_dict['include_gal'] ##1\n",
    "if not include_gal:\n",
    "    param_dict['which_gal_mask'] = 3\n",
    "which_gal_mask = param_dict['which_gal_mask']\n",
    "try:\n",
    "    remove_atm = param_dict['remove_atm']\n",
    "except:\n",
    "    remove_atm = 0\n"
   ]
  },
  {
   "cell_type": "code",
   "execution_count": 315,
   "metadata": {},
   "outputs": [],
   "source": [
    "#S4 specs\n",
    "specs_dic = {\n",
    "#freq: [beam_arcmins, white_noise_T, elknee_T, alphaknee_T, whitenoise_P, elknee_P, alphaknee_P] \n",
    "#20: [10.0, None, None, None, None, None, None],\n",
    "#27: [7.4, 21.8, 471., 3.5, 30.8, 700, 1.4],\n",
    "#39: [5.1, 12.4, 428., 3.5, 17.6, 700, 1.4], \n",
    "\n",
    "#93: [2.2, 2.0, 2154., 3.5, 2.9, 700, 1.4],\n",
    "145: [1.4, 2.0, 4364., 3.5, 2.8, 700, 1.4],\n",
    "#225: [1.0, 6.9, 7334., 3.5, 9.8, 700, 1.4],\n",
    "#278: [0.9, 16.7, 7308., 3.5, 23.6, 700, 1.4],\n",
    "#225: [1.0, 100., 7334., 3.5, 9.8, 700, 1.4],\n",
    "#278: [0.9, 100., 7308., 3.5, 23.6, 700, 1.4],\n",
    "\n",
    "}\n",
    "\n",
    "if remove_atm:\n",
    "    specs_dic = {\n",
    "    #freq: [beam_arcmins, white_noise_T, elknee_T, alphaknee_T, whitenoise_P, elknee_P, alphaknee_P] \n",
    "    #20: [10.0, None, None, None, None, None, None],\n",
    "    #27: [7.4, 21.8, 471., 0., 30.8, 700, 0.],\n",
    "    #39: [5.1, 12.4, 428., 0., 17.6, 700, 0.], \n",
    "\n",
    "    93: [2.2, 2.0, 2154., 0., 2.9, 700, 0.],\n",
    "    145: [1.4, 2.0, 4364., 0., 2.8, 700, 0.],\n",
    "    225: [1.0, 6.9, 7334., 0., 9.8, 700, 0.],\n",
    "    278: [0.9, 16.7, 7308., 0., 23.6, 700, 0.],\n",
    "#    225: [1.0, 100., 7334., 0., 9.8, 700, 0.],\n",
    "#    278: [0.9, 100., 7308., 0., 23.6, 700, 0.],        \n",
    "    }\n",
    "\n",
    "\n",
    "freqarr = sorted( specs_dic.keys() )\n",
    "\n",
    "corr_noise_bands = {20: [20], 27:[39], 39:[27], 93:[145], 145:[93], 225: [278], 278: [225]}\n",
    "rho = 0.9\n",
    "\n",
    "freqcalib_fac = None\n",
    "final_comp = 'cmb'\n",
    "TParr = ['T', 'P']\n",
    "##include_gal = 1"
   ]
  },
  {
   "cell_type": "code",
   "execution_count": 316,
   "metadata": {},
   "outputs": [
    {
     "name": "stdout",
     "output_type": "stream",
     "text": [
      "[4364.0]\n"
     ]
    }
   ],
   "source": [
    "#beam and noise arr\n",
    "beamarr = []\n",
    "noisearr_T, elkneearr_T, alphakneearr_T = [], [], []\n",
    "noisearr_P, elkneearr_P, alphakneearr_P = [], [], []\n",
    "for freq in freqarr:\n",
    "    beam_arcmins, white_noise_T, elknee_T, alphaknee_T, whitenoise_P, elknee_P, alphaknee_P = specs_dic[freq]\n",
    "    beamarr.append(beam_arcmins)\n",
    "    noisearr_T.append(white_noise_T)\n",
    "    noisearr_P.append(whitenoise_P)\n",
    "    elkneearr_T.append(elknee_T)\n",
    "    elkneearr_P.append(elknee_P)\n",
    "    alphakneearr_T.append(alphaknee_T)\n",
    "    alphakneearr_P.append(alphaknee_P)    \n",
    "\n",
    "print(elkneearr_T)"
   ]
  },
  {
   "cell_type": "code",
   "execution_count": 317,
   "metadata": {},
   "outputs": [],
   "source": [
    "#collect beam and noise into a dic; elknee and alpha into a dic\n",
    "beam_noise_dic = {}\n",
    "elknee_dic = {}\n",
    "for TP in TParr:\n",
    "    beam_noise_dic[TP] = {}\n",
    "    elknee_dic[TP] = {} \n",
    "    if TP == 'T':\n",
    "        freqarr, beamarr, noisearr, elkneearr, alphakneearr = freqarr, beamarr, noisearr_T, elkneearr_T, alphakneearr_T\n",
    "    elif TP == 'P':\n",
    "        freqarr, beamarr, noisearr, elkneearr, alphakneearr = freqarr, beamarr, noisearr_P, elkneearr_P, alphakneearr_P\n",
    "\n",
    "    for (freq, beam, noise, elknee, alphaknee) in zip(freqarr, beamarr, noisearr, elkneearr, alphakneearr):\n",
    "        beam_noise_dic[TP][freq] = [beam, noise]\n",
    "        elknee_dic[TP][freq] = [elknee, alphaknee]"
   ]
  },
  {
   "cell_type": "code",
   "execution_count": 318,
   "metadata": {},
   "outputs": [
    {
     "name": "stdout",
     "output_type": "stream",
     "text": [
      "dict_keys([(145, 145)])\n"
     ]
    }
   ],
   "source": [
    "#get beam deconvolved noise nls\n",
    "nl_dic = {}\n",
    "for TP in TParr:\n",
    "    nl_dic[TP]={}\n",
    "    for freq1 in freqarr:\n",
    "        beamval1, noiseval1 = beam_noise_dic[TP][freq1]\n",
    "        elknee1, alphaknee1 = elknee_dic[TP][freq1]\n",
    "        for freq2 in freqarr:        \n",
    "            beamval2, noiseval2 = beam_noise_dic[TP][freq2]\n",
    "            elknee2, alphaknee2 = elknee_dic[TP][freq2]\n",
    "            \n",
    "            if freq1 == freq2:\n",
    "                nl = misc.get_nl(noiseval1, el, beamval1, elknee = elknee1, alphaknee = alphaknee1)\n",
    "            else:\n",
    "                if freq2 in corr_noise_bands[freq1]:\n",
    "                    nl = misc.get_nl(noiseval1, el, beamval1, elknee = elknee1, alphaknee = alphaknee1, \\\n",
    "                                     beamval2 = beamval2, noiseval2 = noiseval2, elknee2 = elknee2, alphaknee2 = alphaknee2, rho = rho)\n",
    "                else:\n",
    "                    nl = np.zeros( len(el) )\n",
    "            nl[el<=param_dict['lmin']] = 0.\n",
    "            ##nl[nl == 0.] = np.min(nl[nl!=0.])/1e3\n",
    "            nl_dic[TP][(freq1, freq2)] = nl\n",
    "print(nl_dic['T'].keys())"
   ]
  },
  {
   "cell_type": "code",
   "execution_count": 319,
   "metadata": {},
   "outputs": [
    {
     "name": "stdout",
     "output_type": "stream",
     "text": [
      "dict_keys([145])\n"
     ]
    }
   ],
   "source": [
    "#get beams\n",
    "bl_dic = misc.get_beam_dic(freqarr, beam_noise_dic['T'], param_dict['lmax'])\n",
    "print(bl_dic.keys())\n",
    "if (0):\n",
    "    for freq in freqarr:\n",
    "        plot(bl_dic[freq], label = freq)\n",
    "    legend(loc = 1)"
   ]
  },
  {
   "cell_type": "code",
   "execution_count": 320,
   "metadata": {},
   "outputs": [
    {
     "name": "stdout",
     "output_type": "stream",
     "text": [
      "['cmb']\n",
      "dict_keys(['T', 'P']) dict_keys([(145, 145)])\n"
     ]
    }
   ],
   "source": [
    "#get the CMB, noise, and foreground covriance\n",
    "try:\n",
    "    ignore_fg = param_dict['ignore_fg']\n",
    "except:\n",
    "    ignore_fg = []\n",
    "\n",
    "ignore_fg.append(final_comp.lower()) #the required component need not go into the covariance matrix.\n",
    "print(ignore_fg)\n",
    "\n",
    "#freqarr = [145]\n",
    "#param_dict['which_gal_mask'] = 0\n",
    "cl_dic = {}\n",
    "for TP in TParr:\n",
    "    if TP == 'T':\n",
    "        el, cl_dic[TP] = ilc.get_analytic_covariance(param_dict, freqarr, \\\n",
    "                nl_dic = nl_dic['T'], ignore_fg = ignore_fg, include_gal = include_gal, bl_dic = bl_dic)\n",
    "    elif TP == 'P':\n",
    "        el, cl_dic[TP] = ilc.get_analytic_covariance\\\n",
    "                    (param_dict, freqarr, nl_dic = nl_dic['P'], ignore_fg = ignore_fg, pol = 1, \\\n",
    "                    pol_frac_per_cent_dust = param_dict['pol_frac_per_cent_dust'], \\\n",
    "                    pol_frac_per_cent_radio = param_dict['pol_frac_per_cent_radio'], \\\n",
    "                    pol_frac_per_cent_tsz = param_dict['pol_frac_per_cent_tsz'], \\\n",
    "                    pol_frac_per_cent_ksz = param_dict['pol_frac_per_cent_ksz'], \\\n",
    "                    include_gal = include_gal, bl_dic = bl_dic)\n",
    "print(cl_dic.keys(), cl_dic['T'].keys())"
   ]
  },
  {
   "cell_type": "code",
   "execution_count": 321,
   "metadata": {},
   "outputs": [],
   "source": [
    "#get weights\n",
    "lmin = 0\n",
    "weights_dic = {}\n",
    "for TP in TParr:\n",
    "    weights_dic[TP] = ilc.get_multipole_weightsarr(final_comp, freqarr, el, cl_dic[TP], lmin, freqcalib_fac)#, ignore_fg)"
   ]
  },
  {
   "cell_type": "code",
   "execution_count": 322,
   "metadata": {},
   "outputs": [
    {
     "data": {
      "image/png": "[encoded data removed]",
      "text/plain": [
       "<Figure size 900x600 with 1 Axes>"
      ]
     },
     "metadata": {},
     "output_type": "display_data"
    }
   ],
   "source": [
    "#plot weights now\n",
    "colordic = {27:'indigo', 39:'blue', 93: 'royalblue', 145: 'darkgreen', 225: 'goldenrod', 278: 'darkred'}\n",
    "for frqcntr, freq in enumerate( freqarr ):\n",
    "    plot(weights_dic['T'][frqcntr], color = colordic[freq], label = r'%s' %(freq))\n",
    "plot(np.sum(weights_dic['T'], axis = 0), 'k--', label = r'Sum')\n",
    "axhline(lw=0.3);legend(loc = 1, fontsize = 6)\n",
    "xlabel(r'Multipole $\\ell$');ylabel(r'Weight $W_{\\ell}$')\n",
    "ylim(-5., 5.);show()#;sys.exit()"
   ]
  },
  {
   "cell_type": "code",
   "execution_count": 323,
   "metadata": {},
   "outputs": [],
   "source": [
    "#get the residual power now\n",
    "weights_dic, cl_residual = {}, {}\n",
    "for TP in TParr:\n",
    "    cl_residual[TP], weights_dic[TP] = ilc.residual_power(param_dict, freqarr, el, cl_dic[TP], final_comp = final_comp, freqcalib_fac = freqcalib_fac, return_weights = 1)"
   ]
  },
  {
   "cell_type": "code",
   "execution_count": 324,
   "metadata": {},
   "outputs": [
    {
     "name": "stdout",
     "output_type": "stream",
     "text": [
      "results/galactic_sims/S4_ilc_zonca_sims_20204028_galaxy1_145_galmask3_AZ.npy\n"
     ]
    }
   ],
   "source": [
    "#plot and results file name\n",
    "freqarr_str = '-'.join( np.asarray( freqarr ).astype(str) )\n",
    "#opfname = 'results/galactic_sims/S4_ilc_20204020_galaxy%s_%s.npy' %(include_gal, freqarr_str)\n",
    "opfname = 'results/galactic_sims/S4_ilc_zonca_sims_20204028_galaxy%s_%s.npy' %(include_gal, freqarr_str)\n",
    "if include_gal:\n",
    "    opfname = opfname.replace('.npy', '_galmask%s.npy' %(which_gal_mask))\n",
    "\n",
    "if remove_atm:\n",
    "    opfname = opfname.replace('.npy', '_noatmnoise.npy')\n",
    "    \n",
    "cl_gal_folder = param_dict['cl_gal_folder']\n",
    "if cl_gal_folder.find('CUmilta')>-1:\n",
    "    opfname = opfname.replace('.npy', '_CU.npy')\n",
    "else:\n",
    "    opfname = opfname.replace('.npy', '_AZ.npy')\n",
    "\n",
    "#plname = opfname.replace('.npy', '.png').replace('S4_ilc', 'plot_S4_ilc')\n",
    "plname = opfname.replace('.npy', '.png').replace('results/galactic_sims', 'results/galactic_sims/plots/')\n",
    "os.system('mkdir -p results/galactic_sims/plots/')\n",
    "print(opfname)"
   ]
  },
  {
   "cell_type": "code",
   "execution_count": 325,
   "metadata": {},
   "outputs": [
    {
     "data": {
      "image/png": "[encoded data removed]",
      "text/plain": [
       "<Figure size 900x600 with 4 Axes>"
      ]
     },
     "metadata": {},
     "output_type": "display_data"
    }
   ],
   "source": [
    "freq0, lmax = param_dict['freq0'], param_dict['lmax']\n",
    "if include_gal:\n",
    "    foregrounds_to_plot = ['kSZ', 'tSZ', 'DG-Po', 'DG-Cl', 'RG', 'dust', 'sync']\n",
    "    pol_foregrounds_to_plot = ['dust', 'sync']\n",
    "else:\n",
    "    foregrounds_to_plot = ['kSZ', 'tSZ', 'DG-Po', 'DG-Cl', 'RG']\n",
    "    pol_foregrounds_to_plot = []\n",
    "\n",
    "#CAMB output for plotting\n",
    "#camb_file = param_dict['Dlfile_len']\n",
    "camb_file = '%s/%s' %(param_dict['data_folder'], param_dict['Dlfile_len'])\n",
    "el_camb = np.loadtxt(camb_file, usecols = [0])\n",
    "dl_camb = np.loadtxt(camb_file, usecols = [1,2,3,4])\n",
    "\n",
    "cl_camb = ( Tcmb**2. * dl_camb * 2 * np.pi ) / ( el_camb[:,None] * (el_camb[:,None] + 1) )\n",
    "cl_camb *= 1e12\n",
    "cl_TT, cl_EE, cl_BB, cl_TE = cl_camb.T\n",
    "\n",
    "\n",
    "clf(); \n",
    "fsval = 8\n",
    "subplots_adjust(wspace=0.1, hspace = 0.1)\n",
    "tr, tc = 6, 2\n",
    "xmin, xmax = 20, 3500\n",
    "#first plot weights\n",
    "colordic = {27:'indigo', 39:'blue', 93: 'royalblue', 145: 'darkgreen', 225: 'goldenrod', 278: 'darkred'}\n",
    "rspan, cspan = 2, 1\n",
    "curr_row = 0\n",
    "for cntr, TP in enumerate( TParr ):\n",
    "    ax = subplot2grid((tr,tc), (curr_row, cntr), rowspan = rspan, colspan = cspan, xscale = 'log')#, yscale = 'log')\n",
    "    for frqcntr, freq in enumerate( freqarr ):\n",
    "        plot(weights_dic[TP][frqcntr], color = colordic[freq], label = r'%s' %(freq), lw = 0.5)\n",
    "    plot(np.sum(weights_dic[TP], axis = 0), 'k--', label = r'Sum', lw = 0.5)\n",
    "    axhline(lw=0.3);\n",
    "    #xlabel(r'Multipole $\\ell$');\n",
    "    setp(ax.get_xticklabels(which = 'both'), visible=False)\n",
    "    if cntr == 0:\n",
    "        ylabel(r'Weight $W_{\\ell}$')\n",
    "        legend(loc = 3, fontsize = 5, ncol = 5, handlelength = 2., handletextpad = 0.1)\n",
    "    ylim(-3., 3.);\n",
    "    xlim(xmin, xmax);\n",
    "    for label in ax.get_xticklabels(): label.set_fontsize(fsval)\n",
    "    for label in ax.get_yticklabels(): label.set_fontsize(fsval)        \n",
    "\n",
    "curr_row = rspan\n",
    "rspan = tr - rspan\n",
    "for cntr, TP in enumerate( TParr ):\n",
    "    #ax = subplot(1,2,cntr+1, xscale = 'log', yscale = 'log')\n",
    "    ax = subplot2grid((tr,tc), (curr_row, cntr), rowspan = rspan, colspan = cspan, xscale = 'log', yscale = 'log')\n",
    "    plot(el, cl_residual[TP], 'black', lw = 2., label = r'Residual')\n",
    "    if TP == 'T':\n",
    "        plot(el_camb, cl_TT, 'gray', lw = 1., label = r'TT')\n",
    "        '''\n",
    "        cl_fg = np.zeros(len(el))\n",
    "        for curr_fg in foregrounds_to_plot:\n",
    "            if curr_fg == 'dust':\n",
    "                el, cl_curr_fg = fg.get_cl_galactic(param_dict, 'dust', 145, 145, 'TT', bl_dic = bl_dic, el = el)\n",
    "            elif curr_fg == 'sync':\n",
    "                el, cl_curr_fg = fg.get_cl_galactic(param_dict, 'sync', 145, 145, 'TT', bl_dic = bl_dic, el = el)\n",
    "            else:\n",
    "                el_, cl_curr_fg = fg.get_foreground_power_spt(curr_fg, freq1 = freq0, lmax = lmax)\n",
    "            #plot(el, cl_curr_fg, lw = 0.5, ls = '--', label = r'150: %s' %(curr_fg), alpha = 0.4)\n",
    "            cl_fg += cl_curr_fg\n",
    "        plot(el, cl_fg, lw = 5., ls = '--', label = r'150: All foregrounds', alpha = 1.)\n",
    "        '''\n",
    "    elif TP == 'P':\n",
    "        plot(el_camb, cl_EE, 'gray', lw = 0.5)#, label = r'EE')\n",
    "        plot(el_camb, cl_TE, 'gray', ls = '-', lw = 0.5)#, label = r'TE')        \n",
    "        plot(el_camb, abs( cl_TE ), 'navy', ls = '--', lw = 0.5) \n",
    "        '''\n",
    "        for curr_fg in pol_foregrounds_to_plot:\n",
    "            if curr_fg == 'dust':\n",
    "                el, cl_curr_fg = fg.get_cl_galactic(param_dict, 'dust', 145, 145, 'EE', bl_dic = bl_dic, el = el)\n",
    "            elif curr_fg == 'sync':\n",
    "                el, cl_curr_fg = fg.get_cl_galactic(param_dict, 'sync', 145, 145, 'EE', bl_dic = bl_dic, el = el)\n",
    "            plot(el, cl_curr_fg, lw = 0.5, ls = '--', label = r'150: %s' %(curr_fg), alpha = 0.4)\n",
    "        '''\n",
    "    for freq in freqarr:\n",
    "        plot(el, cl_dic[TP][(freq,freq)], color = colordic[freq], lw = 0.5, ls = '-', label = r'%s' %(freq), alpha = 1.)        \n",
    "    #for freq in freqarr:\n",
    "    #    plot(el, nl_dic[TP][(freq, freq)], color = colordic[freq], lw = 0.5, ls = '--', label = r'Noise: %s' %(freq))#, alpha = 0.5)\n",
    "    #legend(loc=3, fancybox=1, ncol = 4, fontsize = 6);\n",
    "    \n",
    "    xlim(xmin, xmax);\n",
    "    ylim(1e-8,1e6);\n",
    "    xlabel(r'Multipole $\\ell$')\n",
    "    if cntr == 0: \n",
    "        ylabel(r'$C_{\\ell}$')\n",
    "    else:\n",
    "        legend(loc = 1, fontsize = 5, ncol = 5, handlelength = 2., handletextpad = 0.1)\n",
    "        setp(ax.get_yticklabels(which = 'both'), visible=False)\n",
    "    for label in ax.get_xticklabels(): label.set_fontsize(fsval)\n",
    "    for label in ax.get_yticklabels(): label.set_fontsize(fsval)        \n",
    "\n",
    "#tit = 'Galaxy = %s; Mask = %s; Bands = %s' %(include_gal, param_dict['which_gal_mask'], str(freqarr))\n",
    "if remove_atm:\n",
    "    tit = 'Galaxy = %s; Mask = %s; Bands = %s; no 1/f' %(include_gal, param_dict['which_gal_mask'], str(freqarr))\n",
    "else:\n",
    "    tit = 'Galaxy = %s; Mask = %s; Bands = %s' %(include_gal, param_dict['which_gal_mask'], str(freqarr))    \n",
    "suptitle(r'%s' %tit, x = 0.53, y = 0.94)\n",
    "savefig(plname)\n",
    "show()\n"
   ]
  },
  {
   "cell_type": "code",
   "execution_count": 326,
   "metadata": {},
   "outputs": [
    {
     "name": "stdout",
     "output_type": "stream",
     "text": [
      "0.77325439453125\n",
      "results/galactic_sims/S4_ilc_zonca_sims_20204028_galaxy1_145_galmask3_AZ.npy\n"
     ]
    }
   ],
   "source": [
    "cl_gal_dic_dust_fname = param_dict['cl_gal_dic_dust_fname']\n",
    "try:\n",
    "    cl_gal_folder = param_dict['cl_gal_folder']\n",
    "    cl_gal_dic_dust_fname = '%s/%s' %(cl_gal_folder, cl_gal_dic_dust_fname)\n",
    "except:\n",
    "    pass\n",
    "    \n",
    "galdustsims_cl = np.load(cl_gal_dic_dust_fname, allow_pickle=1, encoding = 'latin1').item()\n",
    "fsky_val = galdustsims_cl['fsky_arr'][param_dict['which_gal_mask']]\n",
    "print(fsky_val)\n",
    "opdic = {}\n",
    "opdic['el'] = el\n",
    "opdic['cl_residual'] = cl_residual\n",
    "opdic['freqcalib_fac'] = freqcalib_fac\n",
    "opdic['param_dict'] = param_dict\n",
    "opdic['fsky_val'] = fsky_val\n",
    "opdic['which_gal_mask'] = which_gal_mask\n",
    "opdic['weights'] = weights_dic\n",
    "#opdic['nl_dic'] = nl_dic\n",
    "opdic['beam_noise_dic'] = beam_noise_dic\n",
    "opdic['elknee_dic'] = elknee_dic\n",
    "np.save(opfname, opdic)\n",
    "print(opfname)"
   ]
  },
  {
   "cell_type": "code",
   "execution_count": null,
   "metadata": {},
   "outputs": [],
   "source": []
  },
  {
   "cell_type": "code",
   "execution_count": null,
   "metadata": {},
   "outputs": [],
   "source": []
  },
  {
   "cell_type": "code",
   "execution_count": null,
   "metadata": {},
   "outputs": [],
   "source": []
  },
  {
   "cell_type": "code",
   "execution_count": null,
   "metadata": {},
   "outputs": [],
   "source": []
  },
  {
   "cell_type": "code",
   "execution_count": null,
   "metadata": {},
   "outputs": [],
   "source": []
  }
 ],
 "metadata": {
  "kernelspec": {
   "display_name": "Python 3",
   "language": "python",
   "name": "python3"
  },
  "language_info": {
   "codemirror_mode": {
    "name": "ipython",
    "version": 3
   },
   "file_extension": ".py",
   "mimetype": "text/x-python",
   "name": "python",
   "nbconvert_exporter": "python",
   "pygments_lexer": "ipython3",
   "version": "3.7.3"
  }
 },
 "nbformat": 4,
 "nbformat_minor": 2
}
