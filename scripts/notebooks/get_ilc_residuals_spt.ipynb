{
 "cells": [
  {
   "cell_type": "code",
   "execution_count": 44,
   "metadata": {},
   "outputs": [
    {
     "name": "stdout",
     "output_type": "stream",
     "text": [
      "The autoreload extension is already loaded. To reload it, use:\n",
      "  %reload_ext autoreload\n"
     ]
    }
   ],
   "source": [
    "%load_ext autoreload\n",
    "%autoreload 2\n",
    "\n",
    "#%pylab notebook\n",
    "%matplotlib inline\n",
    "from pylab import *\n",
    "from matplotlib import rc;rc('text', usetex=True);rc('font', weight='bold');matplotlib.rcParams['text.latex.preamble'] = [r'\\boldmath']\n",
    "import os\n",
    "rc('text.latex',preamble=r'\\usepackage{/Users/sraghunathan/.configs/apjfonts}')"
   ]
  },
  {
   "cell_type": "code",
   "execution_count": 45,
   "metadata": {},
   "outputs": [],
   "source": [
    "rcParams['figure.dpi'] = 150\n",
    "rcParams[\"figure.facecolor\"] = 'white'"
   ]
  },
  {
   "cell_type": "code",
   "execution_count": 46,
   "metadata": {},
   "outputs": [],
   "source": [
    "import argparse, sys, numpy as np, scipy as sc, warnings, os\n",
    "sys.path.append('/Users/sraghunathan/Research/SPTPol/analysis/git/DRAFT/modules/')\n",
    "import flatsky, misc, exp_specs_for_spt as exp_specs\n",
    "import ilc, foregrounds as fg\n",
    "\n",
    "#import matplotlib.cbook\n",
    "warnings.filterwarnings('ignore',category=RuntimeWarning)\n",
    "#warnings.filterwarnings('ignore', category=DeprecationWarning)\n",
    "#warnings.filterwarnings('ignore', category=matplotlib.cbook.mplDeprecation)"
   ]
  },
  {
   "cell_type": "code",
   "execution_count": 47,
   "metadata": {},
   "outputs": [],
   "source": [
    "#some constants\n",
    "h=6.62607004e-34 #Planck constant in m2 kg / s\n",
    "k_B=1.38064852e-23 #Boltzmann constant in m2 kg s-2 / K-1\n",
    "Tcmb = 2.73 #Kelvin"
   ]
  },
  {
   "cell_type": "code",
   "execution_count": 48,
   "metadata": {},
   "outputs": [],
   "source": [
    "#params\n",
    "paramfile = 'params.ini'\n",
    "\n",
    "# read and store param dict\n",
    "param_dict = misc.fn_get_param_dict(paramfile)\n",
    "el = np.arange(param_dict['lmax'])\n",
    "param_dict['include_gal'] = 0\n",
    "include_gal = param_dict['include_gal'] ##1\n",
    "if not include_gal:\n",
    "    param_dict['which_gal_mask'] = 3\n",
    "which_gal_mask = param_dict['which_gal_mask']\n",
    "s4like_mask = param_dict['s4like_mask']\n",
    "try:\n",
    "    remove_atm = param_dict['remove_atm']\n",
    "except:\n",
    "    remove_atm = 0    \n",
    "\n",
    "#param_dict['ignore_fg'] = ['dust']"
   ]
  },
  {
   "cell_type": "code",
   "execution_count": 49,
   "metadata": {},
   "outputs": [],
   "source": [
    "#experiment name\n",
    "#expname = 'spt3g_TC'##\n",
    "#expname = 'spt3g_summer'#TC'#y12'\n",
    "#expname = 'spt3g_ZP'##\n",
    "#expname = 'spt3g_y12'##\n",
    "#expname = 'sptpol_summer'\n",
    "#expname = 'sptpol'\n",
    "#expname = 'sptsz'\n",
    "'''\n",
    "expname = 'sptpolultradeep'\n",
    "expname = 'sptpolultradeepplus3g'\n",
    "expname = 'sptpolplusultradeep'\n",
    "expname = 'sptpolplusultradeepplus3g'\n",
    "expname = 'sptpolplusultradeepplus3gfull'\n",
    "#expname = 'spt3g'\n",
    "'''\n",
    "expname = 'spt3g'\n",
    "#expname = 'spt4_C4'\n",
    "#expname = 'sptpolplusultradeepplus3g'\n",
    "#expname = 'sptpolplusultradeepplus3gplusherschel'\n",
    "\n",
    "final_comp = 'y' #'cmb' #'tsz'\n",
    "null_comp = 'cib' #None"
   ]
  },
  {
   "cell_type": "code",
   "execution_count": 50,
   "metadata": {},
   "outputs": [
    {
     "name": "stdout",
     "output_type": "stream",
     "text": [
      "{90: [1.7, 3.0, 1200.0, 3.0, 4.242640687119286, 300.0, 1.0], 150: [1.2, 2.2, 2200.0, 4.0, 3.1112698372208096, 300.0, 1.0], 220: [1.0, 8.8, 2300.0, 4.0, 12.445079348883239, 300.0, 1.0]}\n"
     ]
    }
   ],
   "source": [
    "remove_atm = 0\n",
    "specs_dic, corr_noise_bands, rho, corr_noise, cib_corr_coeffs = exp_specs.get_exp_specs(expname, remove_atm = remove_atm)\n",
    "print(specs_dic)\n",
    "freqarr = sorted( specs_dic.keys() )\n",
    "nc = len( freqarr )\n",
    "\n",
    "if final_comp == 'y':\n",
    "    TParr = ['T']\n",
    "    which_spec_arr = ['TT']\n",
    "elif final_comp == 'cmb':\n",
    "    TParr = ['T', 'P']\n",
    "    #which_spec_arr = ['TT', 'EE', 'TE']\n",
    "    which_spec_arr = ['TT', 'EE']\n",
    "    ##include_gal = 1\n"
   ]
  },
  {
   "cell_type": "code",
   "execution_count": 51,
   "metadata": {},
   "outputs": [
    {
     "name": "stdout",
     "output_type": "stream",
     "text": [
      "[1200.0, 2200.0, 2300.0]\n"
     ]
    }
   ],
   "source": [
    "#beam and noise arr\n",
    "beamarr = []\n",
    "noisearr_T, elkneearr_T, alphakneearr_T = [], [], []\n",
    "noisearr_P, elkneearr_P, alphakneearr_P = [], [], []\n",
    "for freq in freqarr:\n",
    "    beam_arcmins, white_noise_T, elknee_T, alphaknee_T, whitenoise_P, elknee_P, alphaknee_P = specs_dic[freq]\n",
    "    beamarr.append(beam_arcmins)\n",
    "    noisearr_T.append(white_noise_T)\n",
    "    noisearr_P.append(whitenoise_P)\n",
    "    elkneearr_T.append(elknee_T)\n",
    "    elkneearr_P.append(elknee_P)\n",
    "    alphakneearr_T.append(alphaknee_T)\n",
    "    alphakneearr_P.append(alphaknee_P)    \n",
    "\n",
    "print(elkneearr_T)"
   ]
  },
  {
   "cell_type": "code",
   "execution_count": 52,
   "metadata": {},
   "outputs": [],
   "source": [
    "#collect beam and noise into a dic; elknee and alpha into a dic\n",
    "beam_noise_dic = {}\n",
    "elknee_dic = {}\n",
    "for TP in TParr:\n",
    "    beam_noise_dic[TP] = {}\n",
    "    elknee_dic[TP] = {} \n",
    "    if TP == 'T':\n",
    "        freqarr, beamarr, noisearr, elkneearr, alphakneearr = freqarr, beamarr, noisearr_T, elkneearr_T, alphakneearr_T\n",
    "    elif TP == 'P':\n",
    "        freqarr, beamarr, noisearr, elkneearr, alphakneearr = freqarr, beamarr, noisearr_P, elkneearr_P, alphakneearr_P\n",
    "\n",
    "    for (freq, beam, noise, elknee, alphaknee) in zip(freqarr, beamarr, noisearr, elkneearr, alphakneearr):\n",
    "        beam_noise_dic[TP][freq] = [beam, noise]\n",
    "        elknee_dic[TP][freq] = [elknee, alphaknee]"
   ]
  },
  {
   "cell_type": "code",
   "execution_count": 53,
   "metadata": {},
   "outputs": [
    {
     "name": "stdout",
     "output_type": "stream",
     "text": [
      "dict_keys([(90, 90), (90, 150), (90, 220), (150, 90), (150, 150), (150, 220), (220, 90), (220, 150), (220, 220)])\n"
     ]
    }
   ],
   "source": [
    "#get beam deconvolved noise nls\n",
    "nl_dic = {}\n",
    "for TP in TParr:\n",
    "    nl_dic[TP]={}\n",
    "    for freq1 in freqarr:\n",
    "        beamval1, noiseval1 = beam_noise_dic[TP][freq1]\n",
    "        elknee1, alphaknee1 = elknee_dic[TP][freq1]\n",
    "        for freq2 in freqarr:        \n",
    "            beamval2, noiseval2 = beam_noise_dic[TP][freq2]\n",
    "            elknee2, alphaknee2 = elknee_dic[TP][freq2]\n",
    "            \n",
    "            if freq1 == freq2:\n",
    "                nl = misc.get_nl(noiseval1, el, beamval1, elknee = elknee1, alphaknee = alphaknee1)\n",
    "            else:\n",
    "                if freq2 in corr_noise_bands[freq1]:\n",
    "                    nl = misc.get_nl(noiseval1, el, beamval1, elknee = elknee1, alphaknee = alphaknee1, \\\n",
    "                                     beamval2 = beamval2, noiseval2 = noiseval2, elknee2 = elknee2, alphaknee2 = alphaknee2, rho = rho)\n",
    "                else:\n",
    "                    nl = np.zeros( len(el) )\n",
    "            nl[el<=param_dict['lmin']] = 0.\n",
    "            ##nl[nl == 0.] = np.min(nl[nl!=0.])/1e3\n",
    "            nl_dic[TP][(freq1, freq2)] = nl\n",
    "print(nl_dic['T'].keys())"
   ]
  },
  {
   "cell_type": "code",
   "execution_count": 54,
   "metadata": {},
   "outputs": [
    {
     "name": "stdout",
     "output_type": "stream",
     "text": [
      "dict_keys([90, 150, 220, 'effective'])\n"
     ]
    }
   ],
   "source": [
    "#get beams\n",
    "bl_dic = misc.get_beam_dic(freqarr, beam_noise_dic['T'], param_dict['lmax'])\n",
    "bl_dic['effective'] = bl_dic[150]\n",
    "print(bl_dic.keys())\n",
    "if (0):\n",
    "    for freq in freqarr:\n",
    "        plot(bl_dic[freq], label = freq)\n",
    "    legend(loc = 1)"
   ]
  },
  {
   "cell_type": "code",
   "execution_count": 55,
   "metadata": {},
   "outputs": [
    {
     "name": "stdout",
     "output_type": "stream",
     "text": [
      "['tsz']\n",
      "dict_keys(['TT'])\n"
     ]
    }
   ],
   "source": [
    "#get the CMB, noise, and foreground covriance\n",
    "try:\n",
    "    ignore_fg = param_dict['ignore_fg']\n",
    "except:\n",
    "    ignore_fg = []\n",
    "\n",
    "if isinstance(final_comp, str):\n",
    "    if final_comp.lower() == 'y':\n",
    "        ignore_fg.append('tsz') #the required component need not go into the covariance matrix.\n",
    "    else:\n",
    "        ignore_fg.append(final_comp.lower()) #the required component need not go into the covariance matrix.\n",
    "print(ignore_fg)\n",
    "\n",
    "#freqarr = [145]\n",
    "#param_dict['which_gal_mask'] = 0\n",
    "cl_dic = {}\n",
    "for which_spec in which_spec_arr:\n",
    "    if which_spec == 'TT':\n",
    "        el, cl_dic[which_spec] = ilc.get_analytic_covariance(param_dict, freqarr, \\\n",
    "                nl_dic = nl_dic['T'], ignore_fg = ignore_fg, include_gal = include_gal, bl_dic = bl_dic, \\\n",
    "                cib_corr_coeffs = cib_corr_coeffs)\n",
    "    else:\n",
    "        el, cl_dic[which_spec] = ilc.get_analytic_covariance\\\n",
    "                    (param_dict, freqarr, nl_dic = nl_dic['P'], ignore_fg = ignore_fg, which_spec = which_spec, \\\n",
    "                    pol_frac_per_cent_dust = param_dict['pol_frac_per_cent_dust'], \\\n",
    "                    pol_frac_per_cent_radio = param_dict['pol_frac_per_cent_radio'], \\\n",
    "                    pol_frac_per_cent_tsz = param_dict['pol_frac_per_cent_tsz'], \\\n",
    "                    pol_frac_per_cent_ksz = param_dict['pol_frac_per_cent_ksz'], \\\n",
    "                    include_gal = include_gal, bl_dic = bl_dic)\n",
    "print(cl_dic.keys())"
   ]
  },
  {
   "cell_type": "code",
   "execution_count": 56,
   "metadata": {},
   "outputs": [],
   "source": [
    "if expname.find('spt4')>-1:\n",
    "    colordic = {}\n",
    "    colordic[90] = 'navy'\n",
    "    colordic[150] = 'blue'\n",
    "    colordic[220] = 'darkgreen'\n",
    "    colordic[225] = 'goldenrod'\n",
    "    colordic[286] = 'orangered'\n",
    "    colordic[345] = 'maroon'\n",
    "elif expname.find('herschel')>-1:\n",
    "    colordic = {}\n",
    "    colordic[90] = 'navy'\n",
    "    colordic[150] = 'green'\n",
    "    colordic[220] = 'darkred'\n",
    "    colordic[600] = 'm'\n",
    "    colordic[857] = 'lime'\n",
    "    colordic[1200] = 'cyan'\n",
    "else:\n",
    "    colordic = {}\n",
    "    colordic[90] = 'navy'\n",
    "    colordic[150] = 'green'\n",
    "    colordic[220] = 'darkred'"
   ]
  },
  {
   "cell_type": "code",
   "execution_count": 57,
   "metadata": {},
   "outputs": [],
   "source": [
    "if (0):\n",
    "    pass\n",
    "    '''\n",
    "    #get the residual power now\n",
    "    weights_dic, cl_residual = {}, {}\n",
    "    for which_spec in which_spec_arr:\n",
    "        print(which_spec)\n",
    "        cl_residual[which_spec], weights_dic[which_spec] = ilc.residual_power(param_dict, freqarr, el, cl_dic, which_spec, final_comp = final_comp, freqcalib_fac = freqcalib_fac, return_weights = 1)\n",
    "\n",
    "    print(weights_dic.keys())\n",
    "    '''"
   ]
  },
  {
   "cell_type": "code",
   "execution_count": 70,
   "metadata": {},
   "outputs": [
    {
     "name": "stdout",
     "output_type": "stream",
     "text": [
      "dict_keys(['TT'])\n"
     ]
    }
   ],
   "source": [
    "if null_comp is not None:\n",
    "    cl_dic_temperature = {}\n",
    "    cl_dic_temperature['TT'] = cl_dic['TT']\n",
    "    cl_residual_comp_nulled_arr, weights_comp_nulled_arr = ilc.residual_power_new(param_dict, freqarr, el, cl_dic_temperature, final_comp = final_comp, freqcalib_fac = freqcalib_fac, return_weights = 1, null_comp = null_comp)\n",
    "\n",
    "    #get weights and residual dic\n",
    "    cl_residual_comp_nulled, weights_comp_nulled_dic = {}, {}\n",
    "    for which_spec in ['TT']:\n",
    "        if which_spec == 'TT':\n",
    "           cl_res = cl_residual_comp_nulled_arr[0]\n",
    "           weights = weights_comp_nulled_arr[:nc, 0]\n",
    "        elif which_spec == 'EE':\n",
    "           cl_res = cl_residual_comp_nulled_arr[1]\n",
    "           weights = weights_comp_nulled_arr[nc:, 1]\n",
    "        elif which_spec == 'TE':\n",
    "           cl_res = cl_residual_comp_nulled_arr[2]\n",
    "           weights = np.asarray( [weights_comp_nulled_arr[nc:, 0], weights_comp_nulled_arr[:nc, 1]] )\n",
    "        cl_residual_comp_nulled[which_spec], weights_comp_nulled_dic[which_spec] = cl_res, weights\n",
    "    print(cl_residual_comp_nulled.keys())"
   ]
  },
  {
   "cell_type": "code",
   "execution_count": 71,
   "metadata": {},
   "outputs": [
    {
     "name": "stdout",
     "output_type": "stream",
     "text": [
      "dict_keys(['TT'])\n"
     ]
    }
   ],
   "source": [
    "cl_residual_arr, weights_arr = ilc.residual_power_new(param_dict, freqarr, el, cl_dic, final_comp = final_comp, freqcalib_fac = freqcalib_fac, return_weights = 1)#, null_comp = null_comp)\n",
    "\n",
    "cl_residual, weights_dic = {}, {}\n",
    "for which_spec in which_spec_arr:\n",
    "    if which_spec == 'TT':\n",
    "       cl_res = cl_residual_arr[0]\n",
    "       weights = weights_arr[:nc, 0]\n",
    "    elif which_spec == 'EE':\n",
    "       cl_res = cl_residual_arr[1]\n",
    "       weights = weights_arr[nc:, 1]\n",
    "    elif which_spec == 'TE':\n",
    "       cl_res = cl_residual_arr[2]\n",
    "       weights = np.asarray( [weights_arr[nc:, 0], weights_arr[:nc, 1]] )\n",
    "    cl_residual[which_spec], weights_dic[which_spec] = cl_res, weights\n",
    "print(cl_residual.keys())"
   ]
  },
  {
   "cell_type": "code",
   "execution_count": 72,
   "metadata": {},
   "outputs": [
    {
     "data": {
      "image/png": "[encoded data removed]",
      "text/plain": [
       "<Figure size 900x600 with 1 Axes>"
      ]
     },
     "metadata": {},
     "output_type": "display_data"
    }
   ],
   "source": [
    "#plot weights now\n",
    "if (1):\n",
    "    #clf()\n",
    "    #fig = figure(figsize=(6, 6))\n",
    "    for cntr, which_spec in enumerate( which_spec_arr ): \n",
    "        #if which_spec == 'TE': continue\n",
    "        ax = subplot ( len(which_spec_arr), 1, cntr+1)\n",
    "        if which_spec == 'TE':\n",
    "            tot_teiter = 1 ##2\n",
    "        else:\n",
    "            tot_teiter = 1 \n",
    "\n",
    "        for teiter in range(tot_teiter):\n",
    "            shift = teiter * len(freqarr)\n",
    "            if teiter == 0:\n",
    "                lsval = '-'\n",
    "                lwval = 1.\n",
    "            else:\n",
    "                lsval = ':'\n",
    "                lwval = 0.5\n",
    "            for frqcntr, freq in enumerate( freqarr ):            \n",
    "                weights_arr = weights_dic[which_spec][frqcntr+shift]\n",
    "                plot(weights_arr, color = colordic[freq], ls = lsval, lw = lwval, label = r'%s' %(freq))\n",
    "\n",
    "                if which_spec == 'TT' and null_comp is not None:\n",
    "                    weights_comp_nulled_arr = weights_comp_nulled_dic[which_spec][frqcntr+shift]\n",
    "                    plot(weights_comp_nulled_arr, color = colordic[freq], ls = '-.', lw = lwval)#, label = r'%s' %(freq))\n",
    "\n",
    "            plot(np.sum(weights_dic[which_spec], axis = 0), 'k--', lw = 0.5, label = r'Sum')    \n",
    "            if which_spec == 'TT' and null_comp is not None:\n",
    "                plot(np.sum(weights_comp_nulled_dic[which_spec], axis = 0), 'k:', lw = 2., label = r'Sum')    \n",
    "            if which_spec == 'TT':\n",
    "                title(r'Temperature')\n",
    "            else:\n",
    "                title(r'Polarisation')\n",
    "        axhline(lw=0.3);\n",
    "        if cntr == len(which_spec)-1:\n",
    "            xlabel(r'Multipole $\\ell$');\n",
    "        else:\n",
    "            setp(ax.get_xticklabels(which = 'both'), visible=False)\n",
    "        if cntr == 0:\n",
    "            legend(loc = 4, ncol = 7, fontsize = 6)\n",
    "\n",
    "        ylabel(r'Weight $W_{\\ell}$')\n",
    "        if null_comp is not None:\n",
    "            ylim(-3., 3.);\n",
    "        else:\n",
    "            ylim(-2., 2.);\n",
    "        xlim(100, 1e4)\n",
    "    show()#;sys.exit()"
   ]
  },
  {
   "cell_type": "code",
   "execution_count": 76,
   "metadata": {},
   "outputs": [
    {
     "name": "stdout",
     "output_type": "stream",
     "text": [
      "results/spt/20200708//spt3g_ilc_y_90-150-220_TT_cib_nulled.npy\n",
      "results/spt/20200708//plots//spt3g_ilc_y_90-150-220_TT_cib_nulled.png\n"
     ]
    }
   ],
   "source": [
    "#plot and results file name\n",
    "freqarr_str = '-'.join( np.asarray( freqarr ).astype(str) )\n",
    "which_spec_arr_str = '-'.join( np.asarray( which_spec_arr ).astype(str) )\n",
    "parent_folder = 'results/spt/20200708/'\n",
    "if expname.find('spt4')>-1:\n",
    "    parent_folder = '%s/spt4' %(parent_folder)\n",
    "opfname = '%s/%s_ilc_%s_%s_%s.npy' %(parent_folder, expname, final_comp, freqarr_str, which_spec_arr_str)\n",
    "\n",
    "if remove_atm:\n",
    "    opfname = opfname.replace('.npy', '_noatmnoise.npy')\n",
    "    \n",
    "if null_comp is not None:\n",
    "    if np.ndim(null_comp) == 0:\n",
    "        null_comp_str = '%s_nulled' %(null_comp)        \n",
    "    else:\n",
    "        null_comp_str = '%s_nulled' %('-'.join(null_comp))\n",
    "        \n",
    "    opfname = '%s_%s.npy' %(opfname.replace('.npy', ''), null_comp_str)\n",
    "\n",
    "plname = opfname.replace('.npy', '.png').replace(parent_folder, '%s/plots/' %(parent_folder))\n",
    "plfolder = '/'.join(plname.split('/')[:-1])\n",
    "os.system('mkdir -p %s' %(plfolder))\n",
    "print(opfname)\n",
    "print(plname)"
   ]
  },
  {
   "cell_type": "code",
   "execution_count": 74,
   "metadata": {
    "scrolled": true
   },
   "outputs": [
    {
     "data": {
      "image/png": "[encoded data removed]",
      "text/plain": [
       "<Figure size 900x600 with 2 Axes>"
      ]
     },
     "metadata": {},
     "output_type": "display_data"
    }
   ],
   "source": [
    "freq0, lmax = param_dict['freq0'], param_dict['lmax']\n",
    "foregrounds_to_plot = ['kSZ', 'tSZ', 'DG-Po', 'DG-Cl', 'RG']\n",
    "pol_foregrounds_to_plot = []\n",
    "\n",
    "#CAMB output for plotting\n",
    "#camb_file = param_dict['Dlfile_len']\n",
    "camb_file = '%s/%s' %(param_dict['data_folder'], param_dict['Dlfile_len'])\n",
    "el_camb = np.loadtxt(camb_file, usecols = [0])\n",
    "dl_camb = np.loadtxt(camb_file, usecols = [1,2,3,4])\n",
    "\n",
    "cl_camb = ( Tcmb**2. * dl_camb * 2 * np.pi ) / ( el_camb[:,None] * (el_camb[:,None] + 1) )\n",
    "cl_camb *= 1e12\n",
    "cl_TT, cl_EE, cl_BB, cl_TE = cl_camb.T\n",
    "\n",
    "clf(); \n",
    "fsval = 8\n",
    "lwval = 0.75\n",
    "plot_weights = 1\n",
    "xmin, xmax = 20, 10000\n",
    "\n",
    "xmin, xmax = 100, 10000\n",
    "ymin, ymax = 1e-9, 1000.\n",
    "\n",
    "if plot_weights:\n",
    "    tr, tc = 6, len(which_spec_arr)\n",
    "    subplots_adjust(wspace=0.1, hspace = 0.1)\n",
    "    #first plot weights\n",
    "    rspan, cspan = 2, 1\n",
    "    curr_row = 0\n",
    "    for cntr, which_spec in enumerate( which_spec_arr ):\n",
    "        ax = subplot2grid((tr,tc), (curr_row, cntr), rowspan = rspan, colspan = cspan)#, xscale = 'log')#, yscale = 'log')\n",
    "        if which_spec == 'TE':\n",
    "            tot_teiter = 1 ##2\n",
    "            for teiter in range(tot_teiter):\n",
    "                if teiter == 0:\n",
    "                    lsval = '-'\n",
    "                else:\n",
    "                    lsval = ':'\n",
    "                shift = teiter * len(freqarr)\n",
    "                for frqcntr, freq in enumerate( freqarr ):\n",
    "                    #plot(weights_dic[which_spec][teiter][frqcntr], color = colordic[freq], label = r'%s' %(freq), lw = lwval, ls = lsval)\n",
    "                    plot(weights_dic[which_spec][frqcntr+shift], color = colordic[freq], label = r'%s' %(freq), lw = lwval, ls = lsval)\n",
    "                plot(np.sum(weights_dic[which_spec][teiter], axis = 0), 'k--', label = r'Sum', lw = lwval, ls = lsval)        \n",
    "        else:\n",
    "            for frqcntr, freq in enumerate( freqarr ):\n",
    "                plot(weights_dic[which_spec][frqcntr], color = colordic[freq], label = r'%s' %(freq), lw = lwval)\n",
    "            plot(np.sum(weights_dic[which_spec], axis = 0), 'k--', label = r'Sum', lw = lwval)\n",
    "        axhline(lw=0.3);\n",
    "        #xlabel(r'Multipole $\\ell$');\n",
    "        setp(ax.get_xticklabels(which = 'both'), visible=False)\n",
    "        if cntr == 0:\n",
    "            ylabel(r'Weight $W_{\\ell}$')\n",
    "            legend(loc = 3, fontsize = 5, ncol = 4, handlelength = 2., handletextpad = 0.1)\n",
    "        else:\n",
    "            setp(ax.get_yticklabels(which = 'both'), visible=False)\n",
    "        ylim(-1., 2.);\n",
    "        xlim(xmin, xmax);\n",
    "        for label in ax.get_xticklabels(): label.set_fontsize(fsval)\n",
    "        for label in ax.get_yticklabels(): label.set_fontsize(fsval)        \n",
    "\n",
    "        title(r'%s' %(which_spec))#, fontsize = 10)\n",
    "\n",
    "    curr_row = rspan\n",
    "    rspan = tr - rspan\n",
    "for cntr, which_spec in enumerate( which_spec_arr ):\n",
    "    if plot_weights:\n",
    "        #ax = subplot(1,2,cntr+1, xscale = 'log', yscale = 'log')\n",
    "        ax = subplot2grid((tr,tc), (curr_row, cntr), rowspan = rspan, colspan = cspan, yscale = 'log')#, xscale = 'log')\n",
    "    else:\n",
    "        ax = subplot(1,2,cntr+1, xscale = 'log', yscale = 'log')\n",
    "    plot(el, cl_residual[which_spec], 'k', lw = 2., label = r'Residual')\n",
    "    if which_spec == 'TT':\n",
    "        if final_comp == 'cmb':\n",
    "            plot(el_camb, cl_TT, 'gray', lw = 1., label = r'TT')\n",
    "        if null_comp is not None:\n",
    "            plot(el, cl_residual_comp_nulled[which_spec], 'black', lw = 2., ls = '-.', label = r'Residual: comp-nulled')\n",
    "        \n",
    "        '''\n",
    "        cl_fg = np.zeros(len(el))\n",
    "        for curr_fg in foregrounds_to_plot:\n",
    "            if curr_fg == 'dust':\n",
    "                el, cl_curr_fg = fg.get_cl_galactic(param_dict, 'dust', 145, 145, 'TT', bl_dic = bl_dic, el = el)\n",
    "            elif curr_fg == 'sync':\n",
    "                el, cl_curr_fg = fg.get_cl_galactic(param_dict, 'sync', 145, 145, 'TT', bl_dic = bl_dic, el = el)\n",
    "            else:\n",
    "                el_, cl_curr_fg = fg.get_foreground_power_spt(curr_fg, freq1 = freq0, lmax = lmax)\n",
    "            #plot(el, cl_curr_fg, lw = 0.5, ls = '--', label = r'150: %s' %(curr_fg), alpha = 0.4)\n",
    "            cl_fg += cl_curr_fg\n",
    "        plot(el, cl_fg, lw = 5., ls = '--', label = r'150: All foregrounds', alpha = 1.)\n",
    "        '''\n",
    "    elif which_spec == 'EE':\n",
    "        plot(el_camb, cl_EE, 'gray', lw = 0.5)#, label = r'EE')\n",
    "        '''\n",
    "        for curr_fg in pol_foregrounds_to_plot:\n",
    "            if curr_fg == 'dust':\n",
    "                el, cl_curr_fg = fg.get_cl_galactic(param_dict, 'dust', 145, 145, 'EE', bl_dic = bl_dic, el = el)\n",
    "            elif curr_fg == 'sync':\n",
    "                el, cl_curr_fg = fg.get_cl_galactic(param_dict, 'sync', 145, 145, 'EE', bl_dic = bl_dic, el = el)\n",
    "            plot(el, cl_curr_fg, lw = 0.5, ls = '--', label = r'150: %s' %(curr_fg), alpha = 0.4)\n",
    "        '''\n",
    "    elif which_spec == 'TE':\n",
    "        plot(el_camb, cl_TE, 'gray', ls = '-', lw = 0.5)#, label = r'TE')        \n",
    "        plot(el_camb, abs( cl_TE ), 'gray', ls = '--', lw = 0.5) \n",
    "        '''\n",
    "        for curr_fg in pol_foregrounds_to_plot:\n",
    "            if curr_fg == 'dust':\n",
    "                el, cl_curr_fg = fg.get_cl_galactic(param_dict, 'dust', 145, 145, 'EE', bl_dic = bl_dic, el = el)\n",
    "            elif curr_fg == 'sync':\n",
    "                el, cl_curr_fg = fg.get_cl_galactic(param_dict, 'sync', 145, 145, 'EE', bl_dic = bl_dic, el = el)\n",
    "            plot(el, cl_curr_fg, lw = 0.5, ls = '--', label = r'150: %s' %(curr_fg), alpha = 0.4)\n",
    "        '''\n",
    "    #for freq in freqarr:\n",
    "    #    plot(el, cl_dic[which_spec][(freq,freq)], color = colordic[freq], lw = 0.5, ls = '-', label = r'%s' %(freq), alpha = 1.)        \n",
    "    for freq in freqarr:\n",
    "        if which_spec == 'TT':\n",
    "            nl = nl_dic['T'][(freq, freq)]\n",
    "        elif which_spec == 'EE':\n",
    "            nl = nl_dic['P'][(freq, freq)]\n",
    "        elif which_spec == 'TE':\n",
    "            nl = nl_dic['T'][(freq, freq)] * 0.\n",
    "        plot(el, nl, color = colordic[freq], lw = lwval, ls = '--', label = r'Noise: %s' %(freq))#, alpha = 0.5)\n",
    "    #legend(loc=3, fancybox=1, ncol = 4, fontsize = 6);\n",
    "    \n",
    "    xlim(xmin, xmax);\n",
    "    #ylim(1e-8,1e6);\n",
    "\n",
    "    xlim(xmin, xmax);\n",
    "    ylim(ymin, ymax); \n",
    "\n",
    "    xlabel(r'Multipole $\\ell$')\n",
    "    if cntr == 0: \n",
    "        ylabel(r'$C_{\\ell}$')\n",
    "        legend(loc = 1, fontsize = 6, ncol = 2, handlelength = 2., handletextpad = 0.1)\n",
    "    else:\n",
    "        setp(ax.get_yticklabels(which = 'both'), visible=False)\n",
    "    for label in ax.get_xticklabels(): label.set_fontsize(fsval)\n",
    "    for label in ax.get_yticklabels(): label.set_fontsize(fsval)\n",
    "        \n",
    "#tit = 'Galaxy = %s; Mask = %s; Bands = %s' %(include_gal, param_dict['which_gal_mask'], str(freqarr))\n",
    "if remove_atm:\n",
    "    tit = 'Bands = %s; no 1/f' %(str(freqarr))\n",
    "else:\n",
    "    tit = 'Bands = %s' %(str(freqarr))\n",
    "suptitle(r'%s: %s' %(expname.replace('_','\\_').upper(), final_comp))\n",
    "#show()\n",
    "savefig(plname)"
   ]
  },
  {
   "cell_type": "code",
   "execution_count": null,
   "metadata": {},
   "outputs": [],
   "source": []
  },
  {
   "cell_type": "code",
   "execution_count": 75,
   "metadata": {},
   "outputs": [
    {
     "name": "stdout",
     "output_type": "stream",
     "text": [
      "results/spt/20200708//spt3g_ilc_y_90-150-220_TT.png_cib_nulled.npy\n",
      "\n",
      "\n",
      "\n",
      "\n"
     ]
    }
   ],
   "source": [
    "opdic = {}\n",
    "opdic['el'] = el\n",
    "opdic['cl_residual'] = cl_residual\n",
    "opdic['cl_dic'] = cl_dic\n",
    "opdic['freqcalib_fac'] = freqcalib_fac\n",
    "opdic['param_dict'] = param_dict\n",
    "opdic['weights'] = weights_dic\n",
    "if null_comp is not None:\n",
    "    opdic['null_comp'] = null_comp\n",
    "    opdic['cl_residual_nulled'] = cl_residual_comp_nulled\n",
    "    opdic['weights_nulled'] = weights_comp_nulled_dic\n",
    "opdic['nl_dic'] = nl_dic\n",
    "opdic['beam_noise_dic'] = beam_noise_dic\n",
    "opdic['elknee_dic'] = elknee_dic\n",
    "np.save(opfname, opdic)\n",
    "print(opfname)\n",
    "print('\\n\\n\\n')"
   ]
  },
  {
   "cell_type": "code",
   "execution_count": null,
   "metadata": {},
   "outputs": [],
   "source": []
  },
  {
   "cell_type": "code",
   "execution_count": null,
   "metadata": {},
   "outputs": [],
   "source": []
  },
  {
   "cell_type": "code",
   "execution_count": null,
   "metadata": {},
   "outputs": [],
   "source": []
  },
  {
   "cell_type": "code",
   "execution_count": null,
   "metadata": {},
   "outputs": [],
   "source": []
  },
  {
   "cell_type": "code",
   "execution_count": null,
   "metadata": {},
   "outputs": [],
   "source": []
  },
  {
   "cell_type": "code",
   "execution_count": null,
   "metadata": {},
   "outputs": [],
   "source": []
  }
 ],
 "metadata": {
  "kernelspec": {
   "display_name": "Python 3",
   "language": "python",
   "name": "python3"
  },
  "language_info": {
   "codemirror_mode": {
    "name": "ipython",
    "version": 3
   },
   "file_extension": ".py",
   "mimetype": "text/x-python",
   "name": "python",
   "nbconvert_exporter": "python",
   "pygments_lexer": "ipython3",
   "version": "3.7.3"
  }
 },
 "nbformat": 4,
 "nbformat_minor": 2
}
